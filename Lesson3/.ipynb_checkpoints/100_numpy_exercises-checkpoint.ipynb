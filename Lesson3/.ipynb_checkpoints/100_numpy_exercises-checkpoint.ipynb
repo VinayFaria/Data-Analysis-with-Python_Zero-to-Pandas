{
 "cells": [
  {
   "cell_type": "markdown",
   "metadata": {},
   "source": [
    "# 100 numpy exercises (Optional)\n",
    "\n",
    "Source: https://github.com/rougier/numpy-100\n",
    "\n",
    "Note: I have done this as a part of practice according to my understanding. If you feel, at some part any incorrectness, let me now I will be happy to correct it :)"
   ]
  },
  {
   "cell_type": "markdown",
   "metadata": {},
   "source": [
    "#### 1. Import the numpy package under the name `np` (★☆☆)"
   ]
  },
  {
   "cell_type": "code",
   "execution_count": 1,
   "metadata": {},
   "outputs": [],
   "source": [
    "import numpy as np"
   ]
  },
  {
   "cell_type": "markdown",
   "metadata": {},
   "source": [
    "#### 2. Print the numpy version and the configuration (★☆☆)"
   ]
  },
  {
   "cell_type": "code",
   "execution_count": 2,
   "metadata": {},
   "outputs": [
    {
     "name": "stdout",
     "output_type": "stream",
     "text": [
      "NumPy version is 1.24.1\n",
      "openblas64__info:\n",
      "    libraries = ['openblas64_', 'openblas64_']\n",
      "    library_dirs = ['openblas\\\\lib']\n",
      "    language = c\n",
      "    define_macros = [('HAVE_CBLAS', None), ('BLAS_SYMBOL_SUFFIX', '64_'), ('HAVE_BLAS_ILP64', None)]\n",
      "    runtime_library_dirs = ['openblas\\\\lib']\n",
      "blas_ilp64_opt_info:\n",
      "    libraries = ['openblas64_', 'openblas64_']\n",
      "    library_dirs = ['openblas\\\\lib']\n",
      "    language = c\n",
      "    define_macros = [('HAVE_CBLAS', None), ('BLAS_SYMBOL_SUFFIX', '64_'), ('HAVE_BLAS_ILP64', None)]\n",
      "    runtime_library_dirs = ['openblas\\\\lib']\n",
      "openblas64__lapack_info:\n",
      "    libraries = ['openblas64_', 'openblas64_']\n",
      "    library_dirs = ['openblas\\\\lib']\n",
      "    language = c\n",
      "    define_macros = [('HAVE_CBLAS', None), ('BLAS_SYMBOL_SUFFIX', '64_'), ('HAVE_BLAS_ILP64', None), ('HAVE_LAPACKE', None)]\n",
      "    runtime_library_dirs = ['openblas\\\\lib']\n",
      "lapack_ilp64_opt_info:\n",
      "    libraries = ['openblas64_', 'openblas64_']\n",
      "    library_dirs = ['openblas\\\\lib']\n",
      "    language = c\n",
      "    define_macros = [('HAVE_CBLAS', None), ('BLAS_SYMBOL_SUFFIX', '64_'), ('HAVE_BLAS_ILP64', None), ('HAVE_LAPACKE', None)]\n",
      "    runtime_library_dirs = ['openblas\\\\lib']\n",
      "Supported SIMD extensions in this NumPy install:\n",
      "    baseline = SSE,SSE2,SSE3\n",
      "    found = SSSE3,SSE41,POPCNT,SSE42,AVX,F16C,FMA3,AVX2,AVX512F,AVX512CD,AVX512_SKX,AVX512_CLX,AVX512_CNL,AVX512_ICL\n",
      "    not found = \n",
      "NumPy configuration is None\n"
     ]
    }
   ],
   "source": [
    "print('NumPy version is', np.version.version)\n",
    "print('NumPy configuration is', np.show_config())"
   ]
  },
  {
   "cell_type": "markdown",
   "metadata": {},
   "source": [
    "#### 3. Create a null vector of size 10 (★☆☆)"
   ]
  },
  {
   "cell_type": "code",
   "execution_count": 3,
   "metadata": {},
   "outputs": [
    {
     "data": {
      "text/plain": [
       "array([0., 0., 0., 0., 0., 0., 0., 0., 0., 0.])"
      ]
     },
     "execution_count": 3,
     "metadata": {},
     "output_type": "execute_result"
    }
   ],
   "source": [
    "# https://numpy.org/doc/stable/reference/generated/numpy.zeros.html\n",
    "# https://docs.oracle.com/cd/E19957-01/805-4940/z400091044d0/index.html\n",
    "np.zeros(10, dtype=np.float64)"
   ]
  },
  {
   "cell_type": "markdown",
   "metadata": {},
   "source": [
    "#### 4. How to find the memory size of any array (★☆☆)"
   ]
  },
  {
   "cell_type": "code",
   "execution_count": 4,
   "metadata": {},
   "outputs": [
    {
     "name": "stdout",
     "output_type": "stream",
     "text": [
      "Size of the array:  5\n",
      "data type of numpy array: int32\n",
      "Memory size of one array element in bytes:  4\n",
      "Memory size of numpy array in bytes: 20\n"
     ]
    }
   ],
   "source": [
    "numpy_array = np.array([1,2,3,4,5])\n",
    "print(\"Size of the array: \", numpy_array.size)\n",
    "print(\"data type of numpy array:\", numpy_array.dtype)\n",
    "print(\"Memory size of one array element in bytes: \", numpy_array.itemsize)\n",
    "print(\"Memory size of numpy array in bytes:\", numpy_array.size * numpy_array.itemsize)"
   ]
  },
  {
   "cell_type": "markdown",
   "metadata": {},
   "source": [
    "#### 5. How to get the documentation of the numpy add function from the command line? (★☆☆)"
   ]
  },
  {
   "cell_type": "code",
   "execution_count": 5,
   "metadata": {},
   "outputs": [
    {
     "ename": "SyntaxError",
     "evalue": "invalid syntax (1749058911.py, line 1)",
     "output_type": "error",
     "traceback": [
      "\u001b[1;36m  Cell \u001b[1;32mIn [5], line 1\u001b[1;36m\u001b[0m\n\u001b[1;33m    python -c \"import numpy; numpy.info(numpy.add)\" # command applicable in terminal/command prompt\u001b[0m\n\u001b[1;37m              ^\u001b[0m\n\u001b[1;31mSyntaxError\u001b[0m\u001b[1;31m:\u001b[0m invalid syntax\n"
     ]
    }
   ],
   "source": [
    "python -c \"import numpy; numpy.info(numpy.add)\" # command applicable in terminal/command prompt"
   ]
  },
  {
   "cell_type": "code",
   "execution_count": null,
   "metadata": {},
   "outputs": [],
   "source": [
    "np.info(np.add)"
   ]
  },
  {
   "cell_type": "markdown",
   "metadata": {},
   "source": [
    "#### 6. Create a null vector of size 10 but the fifth value which is 1 (★☆☆)"
   ]
  },
  {
   "cell_type": "code",
   "execution_count": null,
   "metadata": {},
   "outputs": [],
   "source": [
    "numpy_array = np.zeros(10)\n",
    "numpy_array[4] = 1\n",
    "numpy_array"
   ]
  },
  {
   "cell_type": "markdown",
   "metadata": {},
   "source": [
    "#### 7. Create a vector with values ranging from 10 to 49 (★☆☆)"
   ]
  },
  {
   "cell_type": "code",
   "execution_count": null,
   "metadata": {},
   "outputs": [],
   "source": [
    "np.arange(10,50)"
   ]
  },
  {
   "cell_type": "code",
   "execution_count": null,
   "metadata": {},
   "outputs": [],
   "source": [
    "np.linspace(10,49)"
   ]
  },
  {
   "cell_type": "markdown",
   "metadata": {},
   "source": [
    "#### 8. Reverse a vector (first element becomes last) (★☆☆)"
   ]
  },
  {
   "cell_type": "code",
   "execution_count": null,
   "metadata": {},
   "outputs": [],
   "source": [
    "numpy_array = np.arange(10)\n",
    "numpy_array = numpy_array[::-1]\n",
    "numpy_array"
   ]
  },
  {
   "cell_type": "markdown",
   "metadata": {},
   "source": [
    "#### 9. Create a 3x3 matrix with values ranging from 0 to 8 (★☆☆)"
   ]
  },
  {
   "cell_type": "code",
   "execution_count": null,
   "metadata": {},
   "outputs": [],
   "source": [
    "numpy_array = np.arange(9)\n",
    "numpy_array.reshape(3,3)"
   ]
  },
  {
   "cell_type": "markdown",
   "metadata": {},
   "source": [
    "#### 10. Find indices of non-zero elements from [1,2,0,0,4,0] (★☆☆)"
   ]
  },
  {
   "cell_type": "code",
   "execution_count": null,
   "metadata": {},
   "outputs": [],
   "source": [
    "numpy_array = np.array([1,2,0,0,4,0])\n",
    "nz_indices = np.array([], dtype=np.int32)\n",
    "for i in range(len(numpy_array)):\n",
    "    if numpy_array[i] != 0:\n",
    "        nz_indices = np.append(nz_indices, i)\n",
    "nz_indices"
   ]
  },
  {
   "cell_type": "code",
   "execution_count": null,
   "metadata": {
    "tags": []
   },
   "outputs": [],
   "source": [
    "nz_indices = np.nonzero(numpy_array)\n",
    "nz_indices"
   ]
  },
  {
   "cell_type": "markdown",
   "metadata": {
    "tags": []
   },
   "source": [
    "#### 11. Create a 3x3 identity matrix (★☆☆)"
   ]
  },
  {
   "cell_type": "code",
   "execution_count": null,
   "metadata": {},
   "outputs": [],
   "source": [
    "np.identity(3)"
   ]
  },
  {
   "cell_type": "code",
   "execution_count": null,
   "metadata": {},
   "outputs": [],
   "source": [
    "np.eye(3, k=0)"
   ]
  },
  {
   "cell_type": "markdown",
   "metadata": {},
   "source": [
    "#### 12. Create a 3x3x3 array with random values (★☆☆)"
   ]
  },
  {
   "cell_type": "code",
   "execution_count": null,
   "metadata": {},
   "outputs": [],
   "source": [
    "# https://numpy.org/doc/stable/reference/random/index.html\n",
    "\n",
    "numpy_array = np.random.rand(3,3,3)\n",
    "numpy_array"
   ]
  },
  {
   "cell_type": "markdown",
   "metadata": {},
   "source": [
    "#### 13. Create a 10x10 array with random values and find the minimum and maximum values (★☆☆)"
   ]
  },
  {
   "cell_type": "code",
   "execution_count": null,
   "metadata": {},
   "outputs": [],
   "source": [
    "numpy_array = np.random.randint(100, size=(10,10))\n",
    "print(numpy_array)\n",
    "print(\"Minimum of the array:\", np.min(numpy_array))\n",
    "print(\"Maximum of the array:\", np.max(numpy_array))"
   ]
  },
  {
   "cell_type": "markdown",
   "metadata": {},
   "source": [
    "#### 14. Create a random vector of size 30 and find the mean value (★☆☆)"
   ]
  },
  {
   "cell_type": "code",
   "execution_count": null,
   "metadata": {},
   "outputs": [],
   "source": [
    "numpy_array = np.random.randint(100, size=30)\n",
    "print(numpy_array)\n",
    "print(\"Mean of the array:\", np.mean(numpy_array))"
   ]
  },
  {
   "cell_type": "markdown",
   "metadata": {},
   "source": [
    "#### 15. Create a 2d array with 1 on the border and 0 inside (★☆☆)"
   ]
  },
  {
   "cell_type": "code",
   "execution_count": 6,
   "metadata": {},
   "outputs": [
    {
     "name": "stdin",
     "output_type": "stream",
     "text": [
      "Enter value of k for k x k structure 2D structure: 4\n"
     ]
    },
    {
     "data": {
      "text/plain": [
       "array([[1., 1., 1., 1.],\n",
       "       [1., 0., 0., 1.],\n",
       "       [1., 0., 0., 1.],\n",
       "       [1., 1., 1., 1.]])"
      ]
     },
     "execution_count": 6,
     "metadata": {},
     "output_type": "execute_result"
    }
   ],
   "source": [
    "k = int(input(\"Enter value of k for k x k structure 2D structure:\"))\n",
    "\n",
    "final_arr = []\n",
    "for i in range(k):\n",
    "    if i == 0 or i == k-1:\n",
    "        new_array = np.ones(k)\n",
    "        final_arr.append(list(new_array))\n",
    "    else:\n",
    "        new_array = np.zeros(k)\n",
    "        new_array[0], new_array[k-1] = 1,1\n",
    "        final_arr.append(list(new_array))\n",
    "final_arr = np.array(final_arr)\n",
    "final_arr"
   ]
  },
  {
   "cell_type": "code",
   "execution_count": 7,
   "metadata": {},
   "outputs": [
    {
     "data": {
      "text/plain": [
       "array([[1., 1., 1., 1., 1., 1.],\n",
       "       [1., 0., 0., 0., 0., 1.],\n",
       "       [1., 0., 0., 0., 0., 1.],\n",
       "       [1., 0., 0., 0., 0., 1.],\n",
       "       [1., 0., 0., 0., 0., 1.],\n",
       "       [1., 1., 1., 1., 1., 1.]])"
      ]
     },
     "execution_count": 7,
     "metadata": {},
     "output_type": "execute_result"
    }
   ],
   "source": [
    "# source = http://sanjaymeena.io/tech/100-Numpy-Exercises/\n",
    "Z = np.ones((6,6))\n",
    "Z[1:-1,1:-1]=0\n",
    "Z"
   ]
  },
  {
   "cell_type": "markdown",
   "metadata": {},
   "source": [
    "#### 16. How to add a border (filled with 0's) around an existing array? (★☆☆)"
   ]
  },
  {
   "cell_type": "code",
   "execution_count": 8,
   "metadata": {},
   "outputs": [
    {
     "data": {
      "text/plain": [
       "array([[ 0.,  0.,  0.,  0.,  0.,  0.],\n",
       "       [ 0.,  0.,  1.,  2.,  3.,  0.],\n",
       "       [ 0.,  4.,  5.,  6.,  7.,  0.],\n",
       "       [ 0.,  8.,  9., 10., 11.,  0.],\n",
       "       [ 0., 12., 13., 14., 15.,  0.],\n",
       "       [ 0.,  0.,  0.,  0.,  0.,  0.]])"
      ]
     },
     "execution_count": 8,
     "metadata": {},
     "output_type": "execute_result"
    }
   ],
   "source": [
    "numpy_array = np.arange(16).reshape(4,4)\n",
    "a = numpy_array.shape[0]\n",
    "zeros_border = np.zeros(a)\n",
    "dummy = list(numpy_array)\n",
    "dummy = [zeros_border] + dummy + [zeros_border]\n",
    "numpy_array = np.array(dummy)\n",
    "a = numpy_array.shape[0]\n",
    "zeros_border = np.zeros(a)\n",
    "numpy_array = np.concatenate((zeros_border.reshape(a,1), numpy_array), axis=1)\n",
    "numpy_array = np.concatenate((numpy_array, zeros_border.reshape(a,1)), axis=1)\n",
    "numpy_array"
   ]
  },
  {
   "cell_type": "markdown",
   "metadata": {},
   "source": [
    "#### 17. What is the result of the following expression? (★☆☆)\n",
    "```python\n",
    "0 * np.nan\n",
    "np.nan == np.nan\n",
    "np.inf > np.nan\n",
    "np.nan - np.nan\n",
    "np.nan in set([np.nan])\n",
    "0.3 == 3 * 0.1\n",
    "```"
   ]
  },
  {
   "cell_type": "code",
   "execution_count": 9,
   "metadata": {},
   "outputs": [
    {
     "name": "stdout",
     "output_type": "stream",
     "text": [
      "nan\n",
      "False\n",
      "False\n",
      "nan\n",
      "True\n",
      "False\n"
     ]
    }
   ],
   "source": [
    "print(0*np.nan)\n",
    "print(np.nan == np.nan)\n",
    "print(np.inf > np.nan)\n",
    "print(np.nan - np.nan)\n",
    "print(np.nan in set([np.nan]))\n",
    "print(0.3 == 3*0.1)"
   ]
  },
  {
   "cell_type": "markdown",
   "metadata": {},
   "source": [
    "#### 18. Create a 5x5 matrix with values 1,2,3,4 just below the diagonal (★☆☆)"
   ]
  },
  {
   "cell_type": "code",
   "execution_count": 10,
   "metadata": {},
   "outputs": [
    {
     "data": {
      "text/plain": [
       "array([[0., 0., 0., 0., 0.],\n",
       "       [1., 0., 0., 0., 0.],\n",
       "       [0., 2., 0., 0., 0.],\n",
       "       [0., 0., 3., 0., 0.],\n",
       "       [0., 0., 0., 4., 0.]])"
      ]
     },
     "execution_count": 10,
     "metadata": {},
     "output_type": "execute_result"
    }
   ],
   "source": [
    "numpy_array = np.zeros(25).reshape(5,5)\n",
    "dummy = 1\n",
    "for i in range(numpy_array.shape[0]):\n",
    "    for j in range(numpy_array.shape[1]):\n",
    "        if i==j and i!=0:\n",
    "            numpy_array[i][j-1] = dummy\n",
    "            dummy += 1\n",
    "numpy_array"
   ]
  },
  {
   "cell_type": "markdown",
   "metadata": {},
   "source": [
    "#### 19. Create a 8x8 matrix and fill it with a checkerboard pattern (★☆☆)"
   ]
  },
  {
   "cell_type": "code",
   "execution_count": 11,
   "metadata": {},
   "outputs": [
    {
     "data": {
      "text/plain": [
       "array([[0., 1., 0., 1., 0., 1., 0., 1.],\n",
       "       [1., 0., 1., 0., 1., 0., 1., 0.],\n",
       "       [0., 1., 0., 1., 0., 1., 0., 1.],\n",
       "       [1., 0., 1., 0., 1., 0., 1., 0.],\n",
       "       [0., 1., 0., 1., 0., 1., 0., 1.],\n",
       "       [1., 0., 1., 0., 1., 0., 1., 0.],\n",
       "       [0., 1., 0., 1., 0., 1., 0., 1.],\n",
       "       [1., 0., 1., 0., 1., 0., 1., 0.]])"
      ]
     },
     "execution_count": 11,
     "metadata": {},
     "output_type": "execute_result"
    }
   ],
   "source": [
    "numpy_array = np.zeros(64).reshape(8,8)\n",
    "for i in range(len(numpy_array)):\n",
    "    if i%2 == 0:\n",
    "        numpy_array[i][1::2] = 1\n",
    "    else:\n",
    "        numpy_array[i][0::2] = 1\n",
    "numpy_array"
   ]
  },
  {
   "cell_type": "markdown",
   "metadata": {},
   "source": [
    "#### 20. Consider a (6,7,8) shape array, what is the index (x,y,z) of the 100th element?"
   ]
  },
  {
   "cell_type": "code",
   "execution_count": 12,
   "metadata": {},
   "outputs": [
    {
     "name": "stdin",
     "output_type": "stream",
     "text": [
      "Enter the k_th element for which you want to know the index (starting from one): 100\n"
     ]
    },
    {
     "name": "stdout",
     "output_type": "stream",
     "text": [
      "Index of the element counted from (0,0,0): [1, 5, 3]\n"
     ]
    }
   ],
   "source": [
    "numpy_array = np.ones(6*7*8).reshape(6,7,8)\n",
    "element_number = int(input(\"Enter the k_th element for which you want to know the index (starting from one):\"))\n",
    "index = [0,0,0]\n",
    "for i in range(element_number):\n",
    "    if (i%(numpy_array.shape[1] * numpy_array.shape[2]) == 0) and i!= 0:\n",
    "        index[0] += 1\n",
    "        index[1] = 0\n",
    "        index[2] = 0\n",
    "    elif (i%(numpy_array.shape[2]) == 0) and i!= 0:\n",
    "        index[1] += 1\n",
    "        index[2] = 0\n",
    "    else:\n",
    "        index[2] += 1\n",
    "print(\"Index of the element counted from (0,0,0):\", index)"
   ]
  },
  {
   "cell_type": "markdown",
   "metadata": {},
   "source": [
    "#### 21. Create a checkerboard 8x8 matrix using the tile function (★☆☆)"
   ]
  },
  {
   "cell_type": "code",
   "execution_count": 13,
   "metadata": {},
   "outputs": [
    {
     "data": {
      "text/plain": [
       "array([[0, 1, 0, 1, 0, 1, 0, 1],\n",
       "       [1, 0, 1, 0, 1, 0, 1, 0],\n",
       "       [0, 1, 0, 1, 0, 1, 0, 1],\n",
       "       [1, 0, 1, 0, 1, 0, 1, 0],\n",
       "       [0, 1, 0, 1, 0, 1, 0, 1],\n",
       "       [1, 0, 1, 0, 1, 0, 1, 0],\n",
       "       [0, 1, 0, 1, 0, 1, 0, 1],\n",
       "       [1, 0, 1, 0, 1, 0, 1, 0]])"
      ]
     },
     "execution_count": 13,
     "metadata": {},
     "output_type": "execute_result"
    }
   ],
   "source": [
    "pattern = np.array([[0,1],[1,0]])\n",
    "numpy_array = np.tile(pattern, (4,4))\n",
    "numpy_array"
   ]
  },
  {
   "cell_type": "markdown",
   "metadata": {},
   "source": [
    "#### 22. Normalize a 5x5 random matrix (★☆☆)"
   ]
  },
  {
   "cell_type": "code",
   "execution_count": 14,
   "metadata": {},
   "outputs": [
    {
     "name": "stdout",
     "output_type": "stream",
     "text": [
      "Original array:\n",
      " [[33 78 83 35 32]\n",
      " [31 90 59 54 15]\n",
      " [74 90 40 88 92]\n",
      " [20 75 52 59 73]\n",
      " [66 96 17 85 49]]\n",
      "Normalised array:\n",
      " [[0.10213048 0.24139932 0.25687363 0.10832021 0.09903562]\n",
      " [0.09594075 0.27853767 0.18259692 0.1671226  0.04642295]\n",
      " [0.22901986 0.27853767 0.12379452 0.27234795 0.2847274 ]\n",
      " [0.06189726 0.23211473 0.16093288 0.18259692 0.225925  ]\n",
      " [0.20426096 0.29710685 0.05261267 0.26306336 0.15164829]]\n"
     ]
    }
   ],
   "source": [
    "numpy_array = np.random.randint(100, size=(5,5))\n",
    "print(\"Original array:\\n\", numpy_array)\n",
    "norm_value = np.linalg.norm(numpy_array) # Frobenius norm\n",
    "numpy_array = numpy_array/norm_value\n",
    "print(\"Normalised array:\\n\", numpy_array)"
   ]
  },
  {
   "cell_type": "markdown",
   "metadata": {},
   "source": [
    "#### 23. Create a custom dtype that describes a color as four unsigned bytes (RGBA) (★☆☆)"
   ]
  },
  {
   "cell_type": "code",
   "execution_count": 15,
   "metadata": {},
   "outputs": [
    {
     "data": {
      "text/plain": [
       "array([(255, 0, 255, 255)],\n",
       "      dtype=[('R', 'u1'), ('G', 'u1'), ('B', 'u1'), ('A', 'u1')])"
      ]
     },
     "execution_count": 15,
     "metadata": {},
     "output_type": "execute_result"
    }
   ],
   "source": [
    "# https://numpy.org/doc/stable/reference/arrays.dtypes.html\n",
    "# https://rgbacolorpicker.com/\n",
    "\n",
    "custom_dtype = np.dtype([('R', np.uint8), ('G', np.uint8), ('B', np.uint8), ('A', np.uint8)])\n",
    "pink = np.array([(255, 0, 255, 255)], dtype=custom_dtype)\n",
    "pink"
   ]
  },
  {
   "cell_type": "code",
   "execution_count": 16,
   "metadata": {},
   "outputs": [
    {
     "name": "stderr",
     "output_type": "stream",
     "text": [
      "C:\\Users\\vinay\\AppData\\Local\\Temp\\ipykernel_17488\\1004347360.py:1: DeprecationWarning: NumPy will stop allowing conversion of out-of-bound Python integers to integer arrays.  The conversion of 256 to uint8 will fail in the future.\n",
      "For the old behavior, usually:\n",
      "    np.array(value).astype(dtype)`\n",
      "will give the desired result (the cast overflows).\n",
      "  wrong = pink = np.array([(256, 0, 255, 255)], dtype=custom_dtype)\n"
     ]
    }
   ],
   "source": [
    "wrong = pink = np.array([(256, 0, 255, 255)], dtype=custom_dtype)"
   ]
  },
  {
   "cell_type": "markdown",
   "metadata": {},
   "source": [
    "#### 24. Multiply a 5x3 matrix by a 3x2 matrix (real matrix product) (★☆☆)"
   ]
  },
  {
   "cell_type": "code",
   "execution_count": 17,
   "metadata": {},
   "outputs": [
    {
     "data": {
      "text/plain": [
       "array([[ 30.,  36.],\n",
       "       [ 66.,  81.],\n",
       "       [102., 126.],\n",
       "       [138., 171.],\n",
       "       [174., 216.]])"
      ]
     },
     "execution_count": 17,
     "metadata": {},
     "output_type": "execute_result"
    }
   ],
   "source": [
    "numpy_array_1 = np.array([[1,2,3],\n",
    "                          [4,5,6],\n",
    "                          [7,8,9],\n",
    "                          [10,11,12],\n",
    "                          [13,14,15]])\n",
    "numpy_array_2 = np.array([[1,2],\n",
    "                          [4,5],\n",
    "                          [7,8]])\n",
    "first_mat_shape = numpy_array_1.shape\n",
    "second_mat_shape = numpy_array_2.shape\n",
    "final_mat = np.zeros(first_mat_shape[0]*second_mat_shape[1]).reshape(first_mat_shape[0],second_mat_shape[1])\n",
    "for i in range(first_mat_shape[0]):\n",
    "    for j in range(second_mat_shape[1]):\n",
    "        final_mat[i][j] = (numpy_array_1[i] * numpy_array_2[:,j]).sum()\n",
    "final_mat"
   ]
  },
  {
   "cell_type": "markdown",
   "metadata": {},
   "source": [
    "#### 25. Given a 1D array, negate all elements which are between 3 and 8, in place. (★☆☆)"
   ]
  },
  {
   "cell_type": "code",
   "execution_count": 18,
   "metadata": {},
   "outputs": [
    {
     "name": "stdout",
     "output_type": "stream",
     "text": [
      "[2 9 0 4 7 9 6 0 9 1]\n",
      "[ 2  9  0 -4 -7 -9 -6  0 -9  1]\n"
     ]
    }
   ],
   "source": [
    "numpy_array = np.random.randint(10, size=(10))\n",
    "print(numpy_array)\n",
    "numpy_array[3:9] = numpy_array[3:9]*-1\n",
    "print(numpy_array)"
   ]
  },
  {
   "cell_type": "markdown",
   "metadata": {},
   "source": [
    "#### 26. What is the output of the following script? (★☆☆)\n",
    "```python\n",
    "# Author: Jake VanderPlas\n",
    "\n",
    "print(sum(range(5),-1))\n",
    "from numpy import *\n",
    "print(sum(range(5),-1))\n",
    "```"
   ]
  },
  {
   "cell_type": "code",
   "execution_count": 19,
   "metadata": {},
   "outputs": [
    {
     "name": "stdout",
     "output_type": "stream",
     "text": [
      "9\n",
      "10\n"
     ]
    }
   ],
   "source": [
    "print(sum(range(5),-1)) # sum(iterable, start)\n",
    "from numpy import * # imports all functions and classes from numpy, makes code heavier if only one/two function are used from numpy\n",
    "print(sum(range(5),-1))"
   ]
  },
  {
   "cell_type": "markdown",
   "metadata": {},
   "source": [
    "#### 27. Consider an integer vector Z, which of these expressions are legal? (★☆☆)\n",
    "```python\n",
    "Z**Z\n",
    "2 << Z >> 2\n",
    "Z <- Z\n",
    "1j*Z\n",
    "Z/1/1\n",
    "Z<Z>Z\n",
    "```"
   ]
  },
  {
   "cell_type": "code",
   "execution_count": 20,
   "metadata": {},
   "outputs": [
    {
     "name": "stdout",
     "output_type": "stream",
     "text": [
      "16777216\n",
      "128\n",
      "False\n",
      "8j\n",
      "8.0\n",
      "False\n"
     ]
    }
   ],
   "source": [
    "Z = 8\n",
    "print(Z**Z)\n",
    "print(2 << Z >> 2) # <<: left shift, >>:right shift\n",
    "print(Z < -Z)\n",
    "print(1j*Z)\n",
    "print(Z/1/1)\n",
    "print(Z<Z>Z)"
   ]
  },
  {
   "cell_type": "markdown",
   "metadata": {},
   "source": [
    "#### 28. What are the result of the following expressions?\n",
    "```python\n",
    "np.array(0) / np.array(0)\n",
    "np.array(0) // np.array(0)\n",
    "np.array([np.nan]).astype(int).astype(float)\n",
    "```"
   ]
  },
  {
   "cell_type": "code",
   "execution_count": 21,
   "metadata": {},
   "outputs": [
    {
     "name": "stdout",
     "output_type": "stream",
     "text": [
      "nan\n",
      "0\n",
      "[-2.14748365e+09]\n"
     ]
    },
    {
     "name": "stderr",
     "output_type": "stream",
     "text": [
      "C:\\Users\\vinay\\AppData\\Local\\Temp\\ipykernel_17488\\3912170336.py:1: RuntimeWarning: invalid value encountered in divide\n",
      "  print(np.array(0) / np.array(0))\n",
      "C:\\Users\\vinay\\AppData\\Local\\Temp\\ipykernel_17488\\3912170336.py:2: RuntimeWarning: divide by zero encountered in floor_divide\n",
      "  print(np.array(0) // np.array(0))\n",
      "C:\\Users\\vinay\\AppData\\Local\\Temp\\ipykernel_17488\\3912170336.py:3: RuntimeWarning: invalid value encountered in cast\n",
      "  print(np.array([np.nan]).astype(int).astype(float))\n"
     ]
    }
   ],
   "source": [
    "print(np.array(0) / np.array(0))\n",
    "print(np.array(0) // np.array(0))\n",
    "print(np.array([np.nan]).astype(int).astype(float))"
   ]
  },
  {
   "cell_type": "markdown",
   "metadata": {},
   "source": [
    "#### 29. How to round away from zero a float array ? (★☆☆)"
   ]
  },
  {
   "cell_type": "code",
   "execution_count": 23,
   "metadata": {},
   "outputs": [
    {
     "name": "stdout",
     "output_type": "stream",
     "text": [
      "[32. 52.  0.]\n"
     ]
    }
   ],
   "source": [
    "def round_away_from_zero_array(arr,y):\n",
    "    return np.round(arr,y)\n",
    "\n",
    "test = np.array([32.11, 51.5, 0.112])\n",
    "print(round_away_from_zero_array(test,0))"
   ]
  },
  {
   "cell_type": "markdown",
   "metadata": {},
   "source": [
    "#### 30. How to find common values between two arrays? (★☆☆)"
   ]
  },
  {
   "cell_type": "code",
   "execution_count": 24,
   "metadata": {},
   "outputs": [
    {
     "data": {
      "text/plain": [
       "array([4, 9], dtype=int64)"
      ]
     },
     "execution_count": 24,
     "metadata": {},
     "output_type": "execute_result"
    }
   ],
   "source": [
    "numpy_array_1 = np.array([1,4,7,3,9,0])\n",
    "numpy_array_2 = np.array([2,9,10,11,4])\n",
    "common_values = np.array([], dtype = np.int64)\n",
    "for i in numpy_array_1:\n",
    "    if i in numpy_array_2:\n",
    "        common_values = np.append(common_values, i)\n",
    "common_values"
   ]
  },
  {
   "cell_type": "code",
   "execution_count": 25,
   "metadata": {},
   "outputs": [
    {
     "name": "stdout",
     "output_type": "stream",
     "text": [
      "[4 9]\n"
     ]
    }
   ],
   "source": [
    "print(np.intersect1d(numpy_array_1, numpy_array_2))"
   ]
  },
  {
   "cell_type": "markdown",
   "metadata": {},
   "source": [
    "#### 31. How to ignore all numpy warnings (not recommended)? (★☆☆)"
   ]
  },
  {
   "cell_type": "code",
   "execution_count": 26,
   "metadata": {},
   "outputs": [
    {
     "name": "stdout",
     "output_type": "stream",
     "text": [
      "nan\n",
      "0\n",
      "[-2.14748365e+09]\n"
     ]
    }
   ],
   "source": [
    "np.seterr(all=\"ignore\")\n",
    "print(np.array(0) / np.array(0))\n",
    "print(np.array(0) // np.array(0))\n",
    "print(np.array([np.nan]).astype(int).astype(float))"
   ]
  },
  {
   "cell_type": "markdown",
   "metadata": {},
   "source": [
    "#### 32. Is the following expressions true? (★☆☆)\n",
    "```python\n",
    "np.sqrt(-1) == np.emath.sqrt(-1)\n",
    "```"
   ]
  },
  {
   "cell_type": "code",
   "execution_count": 27,
   "metadata": {},
   "outputs": [
    {
     "name": "stdout",
     "output_type": "stream",
     "text": [
      "nan 1j\n",
      "False\n"
     ]
    }
   ],
   "source": [
    "print(np.sqrt(-1), np.emath.sqrt(-1))\n",
    "print(np.sqrt(-1) == np.emath.sqrt(-1))"
   ]
  },
  {
   "cell_type": "markdown",
   "metadata": {},
   "source": [
    "#### 33. How to get the dates of yesterday, today and tomorrow? (★☆☆)"
   ]
  },
  {
   "cell_type": "code",
   "execution_count": 28,
   "metadata": {},
   "outputs": [
    {
     "name": "stdout",
     "output_type": "stream",
     "text": [
      "2023-02-02 2023-02-03 2023-02-04\n"
     ]
    }
   ],
   "source": [
    "today = np.datetime64('today', 'D')\n",
    "yesterday = np.datetime64('today', 'D') - np.timedelta64(1, 'D')\n",
    "tomorrow = np.datetime64('today', 'D') + np.timedelta64(1, 'D')\n",
    "print(yesterday, today, tomorrow)"
   ]
  },
  {
   "cell_type": "markdown",
   "metadata": {},
   "source": [
    "#### 34. How to get all the dates corresponding to the month of July 2016? (★★☆)"
   ]
  },
  {
   "cell_type": "code",
   "execution_count": 29,
   "metadata": {},
   "outputs": [
    {
     "name": "stdout",
     "output_type": "stream",
     "text": [
      "['2016-07-01' '2016-07-02' '2016-07-03' '2016-07-04' '2016-07-05'\n",
      " '2016-07-06' '2016-07-07' '2016-07-08' '2016-07-09' '2016-07-10'\n",
      " '2016-07-11' '2016-07-12' '2016-07-13' '2016-07-14' '2016-07-15'\n",
      " '2016-07-16' '2016-07-17' '2016-07-18' '2016-07-19' '2016-07-20'\n",
      " '2016-07-21' '2016-07-22' '2016-07-23' '2016-07-24' '2016-07-25'\n",
      " '2016-07-26' '2016-07-27' '2016-07-28' '2016-07-29' '2016-07-30'\n",
      " '2016-07-31']\n"
     ]
    }
   ],
   "source": [
    "print(np.arange('2016-07-01', '2016-08-01', dtype='datetime64[D]'))"
   ]
  },
  {
   "cell_type": "code",
   "execution_count": 30,
   "metadata": {},
   "outputs": [
    {
     "name": "stdout",
     "output_type": "stream",
     "text": [
      "['2010' '2011' '2012' '2013' '2014']\n",
      "['2016-01' '2016-02' '2016-03' '2016-04' '2016-05' '2016-06' '2016-07'\n",
      " '2016-08' '2016-09' '2016-10' '2016-11' '2016-12']\n",
      "['2016-01-01T00' '2016-01-01T01' '2016-01-01T02' '2016-01-01T03'\n",
      " '2016-01-01T04' '2016-01-01T05' '2016-01-01T06' '2016-01-01T07'\n",
      " '2016-01-01T08' '2016-01-01T09' '2016-01-01T10' '2016-01-01T11'\n",
      " '2016-01-01T12' '2016-01-01T13' '2016-01-01T14' '2016-01-01T15'\n",
      " '2016-01-01T16' '2016-01-01T17' '2016-01-01T18' '2016-01-01T19'\n",
      " '2016-01-01T20' '2016-01-01T21' '2016-01-01T22' '2016-01-01T23']\n"
     ]
    }
   ],
   "source": [
    "print(np.arange('2010-01-01', '2015-01-01', dtype='datetime64[Y]'))\n",
    "print(np.arange('2016-01-01', '2017-01-01', dtype='datetime64[M]'))\n",
    "print(np.arange('2016-01-01', '2016-01-02', dtype='datetime64[h]'))"
   ]
  },
  {
   "cell_type": "markdown",
   "metadata": {},
   "source": [
    "#### 35. How to compute ((A+B)*(-A/2)) in place (without copy)? (★★☆)"
   ]
  },
  {
   "cell_type": "code",
   "execution_count": 31,
   "metadata": {},
   "outputs": [
    {
     "data": {
      "text/plain": [
       "array([-1.5, -1.5, -1.5])"
      ]
     },
     "execution_count": 31,
     "metadata": {},
     "output_type": "execute_result"
    }
   ],
   "source": [
    "A = np.ones(3) * 1\n",
    "B = np.ones(3) * 2\n",
    "np.add(A, B, out=B)\n",
    "np.divide(A, 2, out=A)\n",
    "np.multiply(A, -1, out=A)\n",
    "np.multiply(B, A)"
   ]
  },
  {
   "cell_type": "markdown",
   "metadata": {},
   "source": [
    "#### 36. Extract the integer part of a random array of positive numbers using 4 different methods (★★☆)"
   ]
  },
  {
   "cell_type": "code",
   "execution_count": 32,
   "metadata": {},
   "outputs": [
    {
     "name": "stdout",
     "output_type": "stream",
     "text": [
      "[0.82975192 2.59276835 4.02950847 3.73018545 4.3239443  9.85527762\n",
      " 1.48940035 5.47752303 4.15612036 3.08115582 0.61662628 1.71276621\n",
      " 8.52610074 1.43984243 2.63104939 0.93876674 9.3065617  5.96939839\n",
      " 3.19974407 3.25195603 2.93013944 3.05296757 7.8362284  9.71318432\n",
      " 9.02498662 1.22283535 2.71517404 6.19028978 2.72693562 0.63952056\n",
      " 2.97207361 6.67185537 3.24753454 1.61793472 0.43152064 4.40336255\n",
      " 1.8335839  6.54970829 4.2869573  1.19080199 8.57779695 3.66930973\n",
      " 1.66964817 4.17346817 2.93531919 9.68309483 8.8672532  1.74491513\n",
      " 4.21034183 7.84575128]\n",
      "[0 2 4 3 4 9 1 5 4 3 0 1 8 1 2 0 9 5 3 3 2 3 7 9 9 1 2 6 2 0 2 6 3 1 0 4 1\n",
      " 6 4 1 8 3 1 4 2 9 8 1 4 7]\n",
      "[ 1  3  5  4  5 10  2  6  5  4  1  2  9  2  3  1 10  6  4  4  3  4  8 10\n",
      " 10  2  3  7  3  1  3  7  4  2  1  5  2  7  5  2  9  4  2  5  3 10  9  2\n",
      "  5  8]\n",
      "[0 2 4 3 4 9 1 5 4 3 0 1 8 1 2 0 9 5 3 3 2 3 7 9 9 1 2 6 2 0 2 6 3 1 0 4 1\n",
      " 6 4 1 8 3 1 4 2 9 8 1 4 7]\n",
      "[ 1  3  4  4  4 10  1  5  4  3  1  2  9  1  3  1  9  6  3  3  3  3  8 10\n",
      "  9  1  3  6  3  1  3  7  3  2  0  4  2  7  4  1  9  4  2  4  3 10  9  2\n",
      "  4  8]\n",
      "[0 2 4 3 4 9 1 5 4 3 0 1 8 1 2 0 9 5 3 3 2 3 7 9 9 1 2 6 2 0 2 6 3 1 0 4 1\n",
      " 6 4 1 8 3 1 4 2 9 8 1 4 7]\n"
     ]
    }
   ],
   "source": [
    "random_array = np.random.uniform(low=0, high=10, size=50)\n",
    "\n",
    "print(random_array)\n",
    "\n",
    "# method 1: only integer value associated with a number\n",
    "int_random_array = np.array([], dtype=np.int64)\n",
    "for i in random_array:\n",
    "    int_random_array = np.append(int_random_array, int(i))\n",
    "print(int_random_array)\n",
    "\n",
    "# method 2: closest integer value greater than a number\n",
    "int_random_array = np.array([], dtype=np.int64)\n",
    "for i in random_array:\n",
    "    int_random_array = np.append(int_random_array, int(np.ceil(i)))\n",
    "print(int_random_array)\n",
    "\n",
    "# method 3: closest integer value less than a number\n",
    "int_random_array = np.array([], dtype=np.int64)\n",
    "for i in random_array:\n",
    "    int_random_array = np.append(int_random_array, int(np.floor(i)))\n",
    "print(int_random_array)\n",
    "\n",
    "# method 4: closest integer value\n",
    "int_random_array = np.array([], dtype=np.int64)\n",
    "for i in random_array:\n",
    "    int_random_array = np.append(int_random_array, int(np.around(i)))\n",
    "print(int_random_array)\n",
    "\n",
    "# method 5: only integer value associated with a number\n",
    "int_random_array = np.array([], dtype=np.int64)\n",
    "for i in random_array:\n",
    "    int_random_array = np.append(int_random_array, int(np.trunc(i)))\n",
    "print(int_random_array)"
   ]
  },
  {
   "cell_type": "markdown",
   "metadata": {},
   "source": [
    "#### 37. Create a 5x5 matrix with row values ranging from 0 to 4 (★★☆)"
   ]
  },
  {
   "cell_type": "code",
   "execution_count": 33,
   "metadata": {},
   "outputs": [
    {
     "data": {
      "text/plain": [
       "array([[0, 1, 2, 3, 4],\n",
       "       [0, 1, 2, 3, 4],\n",
       "       [0, 1, 2, 3, 4],\n",
       "       [0, 1, 2, 3, 4],\n",
       "       [0, 1, 2, 3, 4]])"
      ]
     },
     "execution_count": 33,
     "metadata": {},
     "output_type": "execute_result"
    }
   ],
   "source": [
    "pattern = np.arange(0,5,1)\n",
    "numpy_array = np.tile(pattern, (5,1))\n",
    "numpy_array"
   ]
  },
  {
   "cell_type": "code",
   "execution_count": 34,
   "metadata": {},
   "outputs": [
    {
     "data": {
      "text/plain": [
       "array([[0., 1., 2., 3., 4.],\n",
       "       [0., 1., 2., 3., 4.],\n",
       "       [0., 1., 2., 3., 4.],\n",
       "       [0., 1., 2., 3., 4.],\n",
       "       [0., 1., 2., 3., 4.]])"
      ]
     },
     "execution_count": 34,
     "metadata": {},
     "output_type": "execute_result"
    }
   ],
   "source": [
    "# Ref: https://github.com/zuoxiang95/Learning-DeepLearning/blob/master/numpy_exercise/numpy_100.py\n",
    "x = np.zeros((5, 5))\n",
    "x += np.arange(5)\n",
    "x"
   ]
  },
  {
   "cell_type": "markdown",
   "metadata": {},
   "source": [
    "#### 38. Consider a generator function that generates 10 integers and use it to build an array (★☆☆)"
   ]
  },
  {
   "cell_type": "code",
   "execution_count": 35,
   "metadata": {},
   "outputs": [
    {
     "name": "stdout",
     "output_type": "stream",
     "text": [
      "<generator object generate_integers at 0x000001BE1FD135F0>\n",
      "[0 1 2 3 4 5 6 7 8 9]\n",
      "result set accessible only once, therefore empty []\n"
     ]
    }
   ],
   "source": [
    "def generate_integers():\n",
    "    for i in range(10):\n",
    "        yield i\n",
    "result = generate_integers()\n",
    "print(result)\n",
    "print(np.asarray(list(result), dtype=np.int32))\n",
    "print(\"result set accessible only once, therefore empty\", np.asarray(list(result), dtype=np.int32))\n",
    "for i in result:\n",
    "    print(i)"
   ]
  },
  {
   "cell_type": "markdown",
   "metadata": {},
   "source": [
    "#### 39. Create a vector of size 10 with values ranging from 0 to 1, both excluded (★★☆)"
   ]
  },
  {
   "cell_type": "code",
   "execution_count": 36,
   "metadata": {},
   "outputs": [
    {
     "data": {
      "text/plain": [
       "array([0.09090909, 0.18181818, 0.27272727, 0.36363636, 0.45454545,\n",
       "       0.54545455, 0.63636364, 0.72727273, 0.81818182, 0.90909091])"
      ]
     },
     "execution_count": 36,
     "metadata": {},
     "output_type": "execute_result"
    }
   ],
   "source": [
    "''' \n",
    "Basic trick for manual calculation,\n",
    "we need 10 numbers excluding 0 and 1, means 12 numbers if 0 and 1 are included.\n",
    "Therefore by 11 gaps between 12 numbers we get 10 numbers, 1/11 = 0.0909.\n",
    "0, 0+1/11, 0+2/11, 0+3/11, ... , 0+10/11, 1.\n",
    "By this we can exclude 1st and last element.\n",
    "'''\n",
    "np.linspace(0,1,12,endpoint=True)[1:-1]"
   ]
  },
  {
   "cell_type": "markdown",
   "metadata": {},
   "source": [
    "#### 40. Create a random vector of size 10 and sort it (★★☆)"
   ]
  },
  {
   "cell_type": "code",
   "execution_count": 37,
   "metadata": {},
   "outputs": [
    {
     "name": "stdout",
     "output_type": "stream",
     "text": [
      "Original array:  [2.4465218  5.05625382 2.2742737  4.9351645  8.98771936 6.98988971\n",
      " 0.96276574 7.06586413 9.14244367 4.79780995]\n",
      "Sorted array: [0.9627657424036473, 2.274273704480877, 2.4465217971857767, 4.7978099450407825, 4.935164496850622, 5.056253820197368, 6.989889707835316, 7.065864127431815, 8.987719364107493, 9.14244367155496]\n"
     ]
    }
   ],
   "source": [
    "random_array = np.random.uniform(low=0, high=10, size=10)\n",
    "print(\"Original array: \", random_array)\n",
    "print(\"Sorted array:\", sorted(random_array))"
   ]
  },
  {
   "cell_type": "markdown",
   "metadata": {},
   "source": [
    "#### 41. How to sum a small array faster than np.sum? (★★☆)"
   ]
  },
  {
   "cell_type": "code",
   "execution_count": 38,
   "metadata": {},
   "outputs": [],
   "source": [
    "import timeit"
   ]
  },
  {
   "cell_type": "code",
   "execution_count": 39,
   "metadata": {},
   "outputs": [
    {
     "name": "stdout",
     "output_type": "stream",
     "text": [
      "0.007425600000004806 secs.\n"
     ]
    }
   ],
   "source": [
    "code_segment = '''\\\n",
    "import numpy as np\n",
    "array = np.arange(0,10,1)\n",
    "np.sum(array)\n",
    "'''\n",
    "\n",
    "# define the code statement to test and calculate the execution time\n",
    "exec_time = timeit.timeit(code_segment, number = 1000)\n",
    "\n",
    "# printing the execution time in seconds\n",
    "print(exec_time, \"secs.\")"
   ]
  },
  {
   "cell_type": "code",
   "execution_count": 40,
   "metadata": {},
   "outputs": [
    {
     "name": "stdout",
     "output_type": "stream",
     "text": [
      "0.0031135000000119817 secs.\n"
     ]
    }
   ],
   "source": [
    "code_segment = '''\\\n",
    "import numpy as np\n",
    "array = np.arange(0,10,1)\n",
    "sum = 0\n",
    "for i in array:\n",
    "    sum += i\n",
    "'''\n",
    "\n",
    "# define the code statement to test and calculate the execution time\n",
    "exec_time = timeit.timeit(code_segment, number = 1000)\n",
    "\n",
    "# printing the execution time in seconds\n",
    "print(exec_time, \"secs.\")"
   ]
  },
  {
   "cell_type": "markdown",
   "metadata": {},
   "source": [
    "#### 42. Consider two random array A and B, check if they are equal (★★☆)"
   ]
  },
  {
   "cell_type": "code",
   "execution_count": 41,
   "metadata": {},
   "outputs": [
    {
     "name": "stdout",
     "output_type": "stream",
     "text": [
      "[ True  True  True False]\n",
      "False\n",
      "[ True  True  True  True]\n",
      "True\n"
     ]
    }
   ],
   "source": [
    "A = np.array([1,2,3,4])\n",
    "B = np.array([1,2,3,3])\n",
    "print(A == B)\n",
    "print(np.array_equal(A, B))\n",
    "\n",
    "A = np.array([1,2,3,4])\n",
    "B = np.array([1,2,3,4])\n",
    "print(A == B)\n",
    "print(np.array_equal(A, B))"
   ]
  },
  {
   "cell_type": "markdown",
   "metadata": {},
   "source": [
    "#### 43. Make an array immutable (read-only) (★★☆)"
   ]
  },
  {
   "cell_type": "code",
   "execution_count": 42,
   "metadata": {},
   "outputs": [
    {
     "name": "stdout",
     "output_type": "stream",
     "text": [
      "[1. 1. 1. 1. 1.]\n",
      "[3. 1. 1. 1. 1.]\n"
     ]
    },
    {
     "ename": "ValueError",
     "evalue": "assignment destination is read-only",
     "output_type": "error",
     "traceback": [
      "\u001b[1;31m---------------------------------------------------------------------------\u001b[0m",
      "\u001b[1;31mValueError\u001b[0m                                Traceback (most recent call last)",
      "Cell \u001b[1;32mIn [42], line 6\u001b[0m\n\u001b[0;32m      4\u001b[0m \u001b[38;5;28mprint\u001b[39m(A)\n\u001b[0;32m      5\u001b[0m A\u001b[38;5;241m.\u001b[39msetflags(write\u001b[38;5;241m=\u001b[39m\u001b[38;5;28;01mFalse\u001b[39;00m)\n\u001b[1;32m----> 6\u001b[0m \u001b[43mA\u001b[49m\u001b[43m[\u001b[49m\u001b[38;5;241;43m1\u001b[39;49m\u001b[43m]\u001b[49m \u001b[38;5;241m=\u001b[39m \u001b[38;5;241m5\u001b[39m\n\u001b[0;32m      7\u001b[0m \u001b[38;5;28mprint\u001b[39m(A)\n",
      "\u001b[1;31mValueError\u001b[0m: assignment destination is read-only"
     ]
    }
   ],
   "source": [
    "A = np.ones(5)\n",
    "print(A)\n",
    "A[0] = 3\n",
    "print(A)\n",
    "A.setflags(write=False)\n",
    "A[1] = 5\n",
    "print(A)"
   ]
  },
  {
   "cell_type": "markdown",
   "metadata": {},
   "source": [
    "#### 44. Consider a random 10x2 matrix representing cartesian coordinates, convert them to polar coordinates (★★☆)"
   ]
  },
  {
   "cell_type": "code",
   "execution_count": 43,
   "metadata": {},
   "outputs": [
    {
     "name": "stdout",
     "output_type": "stream",
     "text": [
      "Cartesian coordinates [[5 9]\n",
      " [2 3]\n",
      " [9 8]\n",
      " [9 4]\n",
      " [1 1]\n",
      " [6 7]\n",
      " [7 2]\n",
      " [2 2]\n",
      " [1 4]\n",
      " [4 6]]\n",
      "Its corresponding polar coordinates [[10.29563014  0.5070985 ]\n",
      " [ 3.60555128  0.5880026 ]\n",
      " [12.04159458  0.84415399]\n",
      " [ 9.8488578   1.152572  ]\n",
      " [ 1.41421356  0.78539816]\n",
      " [ 9.21954446  0.70862627]\n",
      " [ 7.28010989  1.29249667]\n",
      " [ 2.82842712  0.78539816]\n",
      " [ 4.12310563  0.24497866]\n",
      " [ 7.21110255  0.5880026 ]]\n"
     ]
    }
   ],
   "source": [
    "cartesian_coordinates = np.random.randint(1, 10, size=(10,2))\n",
    "print(\"Cartesian coordinates\", cartesian_coordinates)\n",
    "polar_coordinates = np.zeros_like(cartesian_coordinates, dtype = np.float64)\n",
    "for i in range(len(cartesian_coordinates)):\n",
    "    r = np.sqrt(np.sum(cartesian_coordinates[i]**2))\n",
    "    theta = np.arctan(cartesian_coordinates[i][0]/cartesian_coordinates[i][1])\n",
    "    polar_coordinates[i] = (r, theta)\n",
    "print(\"Its corresponding polar coordinates\", polar_coordinates)"
   ]
  },
  {
   "cell_type": "markdown",
   "metadata": {},
   "source": [
    "#### 45. Create random vector of size 10 and replace the maximum value by 0 (★★☆)"
   ]
  },
  {
   "cell_type": "code",
   "execution_count": 44,
   "metadata": {},
   "outputs": [
    {
     "name": "stdout",
     "output_type": "stream",
     "text": [
      "Original array:  [6 5 9 4 5 8 4 8 0 5]\n",
      "array after replacing maximum value with 0:  [6 5 0 4 5 8 4 8 0 5]\n"
     ]
    }
   ],
   "source": [
    "numpy_array = np.random.randint(10, size = (10))\n",
    "print(\"Original array: \", numpy_array)\n",
    "index = numpy_array.argmax() # Since it only returns the first maximum value index\n",
    "numpy_array[index] = 0\n",
    "print(\"array after replacing maximum value with 0: \", numpy_array)"
   ]
  },
  {
   "cell_type": "markdown",
   "metadata": {},
   "source": [
    "#### 46. Create a structured array with `x` and `y` coordinates covering the [0,1]x[0,1] area (★★☆)"
   ]
  },
  {
   "cell_type": "code",
   "execution_count": 45,
   "metadata": {},
   "outputs": [
    {
     "data": {
      "text/plain": [
       "array([[(0.  , 0.  ), (0.25, 0.  ), (0.5 , 0.  ), (0.75, 0.  ),\n",
       "        (1.  , 0.  )],\n",
       "       [(0.  , 0.25), (0.25, 0.25), (0.5 , 0.25), (0.75, 0.25),\n",
       "        (1.  , 0.25)],\n",
       "       [(0.  , 0.5 ), (0.25, 0.5 ), (0.5 , 0.5 ), (0.75, 0.5 ),\n",
       "        (1.  , 0.5 )],\n",
       "       [(0.  , 0.75), (0.25, 0.75), (0.5 , 0.75), (0.75, 0.75),\n",
       "        (1.  , 0.75)],\n",
       "       [(0.  , 1.  ), (0.25, 1.  ), (0.5 , 1.  ), (0.75, 1.  ),\n",
       "        (1.  , 1.  )]], dtype=[('x', '<f8'), ('y', '<f8')])"
      ]
     },
     "execution_count": 45,
     "metadata": {},
     "output_type": "execute_result"
    }
   ],
   "source": [
    "structured_array = np.zeros((5, 5), [('x', np.float64), ('y', np.float64)])\n",
    "structured_array['x'], structured_array['y'] = np.meshgrid(np.linspace(0, 1, 5), np.linspace(0, 1, 5))\n",
    "structured_array"
   ]
  },
  {
   "cell_type": "markdown",
   "metadata": {},
   "source": [
    "#### 47. Given two arrays, X and Y, construct the Cauchy matrix C (Cij =1/(xi - yj))"
   ]
  },
  {
   "cell_type": "code",
   "execution_count": 46,
   "metadata": {},
   "outputs": [
    {
     "name": "stdout",
     "output_type": "stream",
     "text": [
      "[3 4 7]\n",
      "[9 7 0 0 4]\n",
      "[[-0.16666667 -0.25        0.33333333  0.33333333 -1.        ]\n",
      " [-0.2        -0.33333333  0.25        0.25               inf]\n",
      " [-0.5                inf  0.14285714  0.14285714  0.33333333]]\n"
     ]
    }
   ],
   "source": [
    "X = np.random.randint(10, size=(3))\n",
    "print(X)\n",
    "Y = np.random.randint(10, size=(5))\n",
    "print(Y)\n",
    "C = np.zeros((len(X), len(Y)))\n",
    "for i in range(len(C)):\n",
    "    for j in range(len(C[0])):\n",
    "        C[i][j] = 1/(X[i] - Y[j])\n",
    "print(C)"
   ]
  },
  {
   "cell_type": "markdown",
   "metadata": {},
   "source": [
    "#### 48. Print the minimum and maximum representable value for each numpy scalar type (★★☆)"
   ]
  },
  {
   "cell_type": "code",
   "execution_count": 47,
   "metadata": {},
   "outputs": [
    {
     "name": "stdout",
     "output_type": "stream",
     "text": [
      "-128\n",
      "127\n",
      "-2147483648\n",
      "2147483647\n",
      "-9223372036854775808\n",
      "9223372036854775807\n",
      "-3.4028235e+38\n",
      "3.4028235e+38\n",
      "1.1920929e-07\n",
      "-1.7976931348623157e+308\n",
      "1.7976931348623157e+308\n",
      "2.220446049250313e-16\n"
     ]
    }
   ],
   "source": [
    "# Ref: https://github.com/rougier/numpy-100/blob/master/100_Numpy_exercises_with_hints_with_solutions.md\n",
    "for datatype in [np.int8, np.int32, np.int64]:\n",
    "   print(np.iinfo(datatype).min)\n",
    "   print(np.iinfo(datatype).max)\n",
    "\n",
    "for datatype in [np.float32, np.float64]:\n",
    "   print(np.finfo(datatype).min)\n",
    "   print(np.finfo(datatype).max)\n",
    "   print(np.finfo(datatype).eps)"
   ]
  },
  {
   "cell_type": "markdown",
   "metadata": {},
   "source": [
    "#### 49. How to print all the values of an array? (★★☆)"
   ]
  },
  {
   "cell_type": "code",
   "execution_count": 48,
   "metadata": {},
   "outputs": [
    {
     "name": "stdout",
     "output_type": "stream",
     "text": [
      "[[0. 0. 0. 0. 0. 0. 0. 0. 0. 0. 0. 0. 0. 0. 0. 0. 0. 0. 0. 0. 0. 0. 0. 0.\n",
      "  0. 0. 0. 0. 0. 0. 0. 0. 0. 0. 0. 0. 0. 0. 0. 0.]\n",
      " [0. 0. 0. 0. 0. 0. 0. 0. 0. 0. 0. 0. 0. 0. 0. 0. 0. 0. 0. 0. 0. 0. 0. 0.\n",
      "  0. 0. 0. 0. 0. 0. 0. 0. 0. 0. 0. 0. 0. 0. 0. 0.]\n",
      " [0. 0. 0. 0. 0. 0. 0. 0. 0. 0. 0. 0. 0. 0. 0. 0. 0. 0. 0. 0. 0. 0. 0. 0.\n",
      "  0. 0. 0. 0. 0. 0. 0. 0. 0. 0. 0. 0. 0. 0. 0. 0.]\n",
      " [0. 0. 0. 0. 0. 0. 0. 0. 0. 0. 0. 0. 0. 0. 0. 0. 0. 0. 0. 0. 0. 0. 0. 0.\n",
      "  0. 0. 0. 0. 0. 0. 0. 0. 0. 0. 0. 0. 0. 0. 0. 0.]\n",
      " [0. 0. 0. 0. 0. 0. 0. 0. 0. 0. 0. 0. 0. 0. 0. 0. 0. 0. 0. 0. 0. 0. 0. 0.\n",
      "  0. 0. 0. 0. 0. 0. 0. 0. 0. 0. 0. 0. 0. 0. 0. 0.]\n",
      " [0. 0. 0. 0. 0. 0. 0. 0. 0. 0. 0. 0. 0. 0. 0. 0. 0. 0. 0. 0. 0. 0. 0. 0.\n",
      "  0. 0. 0. 0. 0. 0. 0. 0. 0. 0. 0. 0. 0. 0. 0. 0.]\n",
      " [0. 0. 0. 0. 0. 0. 0. 0. 0. 0. 0. 0. 0. 0. 0. 0. 0. 0. 0. 0. 0. 0. 0. 0.\n",
      "  0. 0. 0. 0. 0. 0. 0. 0. 0. 0. 0. 0. 0. 0. 0. 0.]\n",
      " [0. 0. 0. 0. 0. 0. 0. 0. 0. 0. 0. 0. 0. 0. 0. 0. 0. 0. 0. 0. 0. 0. 0. 0.\n",
      "  0. 0. 0. 0. 0. 0. 0. 0. 0. 0. 0. 0. 0. 0. 0. 0.]\n",
      " [0. 0. 0. 0. 0. 0. 0. 0. 0. 0. 0. 0. 0. 0. 0. 0. 0. 0. 0. 0. 0. 0. 0. 0.\n",
      "  0. 0. 0. 0. 0. 0. 0. 0. 0. 0. 0. 0. 0. 0. 0. 0.]\n",
      " [0. 0. 0. 0. 0. 0. 0. 0. 0. 0. 0. 0. 0. 0. 0. 0. 0. 0. 0. 0. 0. 0. 0. 0.\n",
      "  0. 0. 0. 0. 0. 0. 0. 0. 0. 0. 0. 0. 0. 0. 0. 0.]\n",
      " [0. 0. 0. 0. 0. 0. 0. 0. 0. 0. 0. 0. 0. 0. 0. 0. 0. 0. 0. 0. 0. 0. 0. 0.\n",
      "  0. 0. 0. 0. 0. 0. 0. 0. 0. 0. 0. 0. 0. 0. 0. 0.]\n",
      " [0. 0. 0. 0. 0. 0. 0. 0. 0. 0. 0. 0. 0. 0. 0. 0. 0. 0. 0. 0. 0. 0. 0. 0.\n",
      "  0. 0. 0. 0. 0. 0. 0. 0. 0. 0. 0. 0. 0. 0. 0. 0.]\n",
      " [0. 0. 0. 0. 0. 0. 0. 0. 0. 0. 0. 0. 0. 0. 0. 0. 0. 0. 0. 0. 0. 0. 0. 0.\n",
      "  0. 0. 0. 0. 0. 0. 0. 0. 0. 0. 0. 0. 0. 0. 0. 0.]\n",
      " [0. 0. 0. 0. 0. 0. 0. 0. 0. 0. 0. 0. 0. 0. 0. 0. 0. 0. 0. 0. 0. 0. 0. 0.\n",
      "  0. 0. 0. 0. 0. 0. 0. 0. 0. 0. 0. 0. 0. 0. 0. 0.]\n",
      " [0. 0. 0. 0. 0. 0. 0. 0. 0. 0. 0. 0. 0. 0. 0. 0. 0. 0. 0. 0. 0. 0. 0. 0.\n",
      "  0. 0. 0. 0. 0. 0. 0. 0. 0. 0. 0. 0. 0. 0. 0. 0.]\n",
      " [0. 0. 0. 0. 0. 0. 0. 0. 0. 0. 0. 0. 0. 0. 0. 0. 0. 0. 0. 0. 0. 0. 0. 0.\n",
      "  0. 0. 0. 0. 0. 0. 0. 0. 0. 0. 0. 0. 0. 0. 0. 0.]\n",
      " [0. 0. 0. 0. 0. 0. 0. 0. 0. 0. 0. 0. 0. 0. 0. 0. 0. 0. 0. 0. 0. 0. 0. 0.\n",
      "  0. 0. 0. 0. 0. 0. 0. 0. 0. 0. 0. 0. 0. 0. 0. 0.]\n",
      " [0. 0. 0. 0. 0. 0. 0. 0. 0. 0. 0. 0. 0. 0. 0. 0. 0. 0. 0. 0. 0. 0. 0. 0.\n",
      "  0. 0. 0. 0. 0. 0. 0. 0. 0. 0. 0. 0. 0. 0. 0. 0.]\n",
      " [0. 0. 0. 0. 0. 0. 0. 0. 0. 0. 0. 0. 0. 0. 0. 0. 0. 0. 0. 0. 0. 0. 0. 0.\n",
      "  0. 0. 0. 0. 0. 0. 0. 0. 0. 0. 0. 0. 0. 0. 0. 0.]\n",
      " [0. 0. 0. 0. 0. 0. 0. 0. 0. 0. 0. 0. 0. 0. 0. 0. 0. 0. 0. 0. 0. 0. 0. 0.\n",
      "  0. 0. 0. 0. 0. 0. 0. 0. 0. 0. 0. 0. 0. 0. 0. 0.]\n",
      " [0. 0. 0. 0. 0. 0. 0. 0. 0. 0. 0. 0. 0. 0. 0. 0. 0. 0. 0. 0. 0. 0. 0. 0.\n",
      "  0. 0. 0. 0. 0. 0. 0. 0. 0. 0. 0. 0. 0. 0. 0. 0.]\n",
      " [0. 0. 0. 0. 0. 0. 0. 0. 0. 0. 0. 0. 0. 0. 0. 0. 0. 0. 0. 0. 0. 0. 0. 0.\n",
      "  0. 0. 0. 0. 0. 0. 0. 0. 0. 0. 0. 0. 0. 0. 0. 0.]\n",
      " [0. 0. 0. 0. 0. 0. 0. 0. 0. 0. 0. 0. 0. 0. 0. 0. 0. 0. 0. 0. 0. 0. 0. 0.\n",
      "  0. 0. 0. 0. 0. 0. 0. 0. 0. 0. 0. 0. 0. 0. 0. 0.]\n",
      " [0. 0. 0. 0. 0. 0. 0. 0. 0. 0. 0. 0. 0. 0. 0. 0. 0. 0. 0. 0. 0. 0. 0. 0.\n",
      "  0. 0. 0. 0. 0. 0. 0. 0. 0. 0. 0. 0. 0. 0. 0. 0.]\n",
      " [0. 0. 0. 0. 0. 0. 0. 0. 0. 0. 0. 0. 0. 0. 0. 0. 0. 0. 0. 0. 0. 0. 0. 0.\n",
      "  0. 0. 0. 0. 0. 0. 0. 0. 0. 0. 0. 0. 0. 0. 0. 0.]\n",
      " [0. 0. 0. 0. 0. 0. 0. 0. 0. 0. 0. 0. 0. 0. 0. 0. 0. 0. 0. 0. 0. 0. 0. 0.\n",
      "  0. 0. 0. 0. 0. 0. 0. 0. 0. 0. 0. 0. 0. 0. 0. 0.]\n",
      " [0. 0. 0. 0. 0. 0. 0. 0. 0. 0. 0. 0. 0. 0. 0. 0. 0. 0. 0. 0. 0. 0. 0. 0.\n",
      "  0. 0. 0. 0. 0. 0. 0. 0. 0. 0. 0. 0. 0. 0. 0. 0.]\n",
      " [0. 0. 0. 0. 0. 0. 0. 0. 0. 0. 0. 0. 0. 0. 0. 0. 0. 0. 0. 0. 0. 0. 0. 0.\n",
      "  0. 0. 0. 0. 0. 0. 0. 0. 0. 0. 0. 0. 0. 0. 0. 0.]\n",
      " [0. 0. 0. 0. 0. 0. 0. 0. 0. 0. 0. 0. 0. 0. 0. 0. 0. 0. 0. 0. 0. 0. 0. 0.\n",
      "  0. 0. 0. 0. 0. 0. 0. 0. 0. 0. 0. 0. 0. 0. 0. 0.]\n",
      " [0. 0. 0. 0. 0. 0. 0. 0. 0. 0. 0. 0. 0. 0. 0. 0. 0. 0. 0. 0. 0. 0. 0. 0.\n",
      "  0. 0. 0. 0. 0. 0. 0. 0. 0. 0. 0. 0. 0. 0. 0. 0.]\n",
      " [0. 0. 0. 0. 0. 0. 0. 0. 0. 0. 0. 0. 0. 0. 0. 0. 0. 0. 0. 0. 0. 0. 0. 0.\n",
      "  0. 0. 0. 0. 0. 0. 0. 0. 0. 0. 0. 0. 0. 0. 0. 0.]\n",
      " [0. 0. 0. 0. 0. 0. 0. 0. 0. 0. 0. 0. 0. 0. 0. 0. 0. 0. 0. 0. 0. 0. 0. 0.\n",
      "  0. 0. 0. 0. 0. 0. 0. 0. 0. 0. 0. 0. 0. 0. 0. 0.]\n",
      " [0. 0. 0. 0. 0. 0. 0. 0. 0. 0. 0. 0. 0. 0. 0. 0. 0. 0. 0. 0. 0. 0. 0. 0.\n",
      "  0. 0. 0. 0. 0. 0. 0. 0. 0. 0. 0. 0. 0. 0. 0. 0.]\n",
      " [0. 0. 0. 0. 0. 0. 0. 0. 0. 0. 0. 0. 0. 0. 0. 0. 0. 0. 0. 0. 0. 0. 0. 0.\n",
      "  0. 0. 0. 0. 0. 0. 0. 0. 0. 0. 0. 0. 0. 0. 0. 0.]\n",
      " [0. 0. 0. 0. 0. 0. 0. 0. 0. 0. 0. 0. 0. 0. 0. 0. 0. 0. 0. 0. 0. 0. 0. 0.\n",
      "  0. 0. 0. 0. 0. 0. 0. 0. 0. 0. 0. 0. 0. 0. 0. 0.]\n",
      " [0. 0. 0. 0. 0. 0. 0. 0. 0. 0. 0. 0. 0. 0. 0. 0. 0. 0. 0. 0. 0. 0. 0. 0.\n",
      "  0. 0. 0. 0. 0. 0. 0. 0. 0. 0. 0. 0. 0. 0. 0. 0.]\n",
      " [0. 0. 0. 0. 0. 0. 0. 0. 0. 0. 0. 0. 0. 0. 0. 0. 0. 0. 0. 0. 0. 0. 0. 0.\n",
      "  0. 0. 0. 0. 0. 0. 0. 0. 0. 0. 0. 0. 0. 0. 0. 0.]\n",
      " [0. 0. 0. 0. 0. 0. 0. 0. 0. 0. 0. 0. 0. 0. 0. 0. 0. 0. 0. 0. 0. 0. 0. 0.\n",
      "  0. 0. 0. 0. 0. 0. 0. 0. 0. 0. 0. 0. 0. 0. 0. 0.]\n",
      " [0. 0. 0. 0. 0. 0. 0. 0. 0. 0. 0. 0. 0. 0. 0. 0. 0. 0. 0. 0. 0. 0. 0. 0.\n",
      "  0. 0. 0. 0. 0. 0. 0. 0. 0. 0. 0. 0. 0. 0. 0. 0.]\n",
      " [0. 0. 0. 0. 0. 0. 0. 0. 0. 0. 0. 0. 0. 0. 0. 0. 0. 0. 0. 0. 0. 0. 0. 0.\n",
      "  0. 0. 0. 0. 0. 0. 0. 0. 0. 0. 0. 0. 0. 0. 0. 0.]]\n"
     ]
    }
   ],
   "source": [
    "np.set_printoptions(threshold=float(\"inf\"))\n",
    "numpy_array = np.zeros((40,40))\n",
    "print(numpy_array)"
   ]
  },
  {
   "cell_type": "markdown",
   "metadata": {},
   "source": [
    "#### 50. How to find the closest value (to a given scalar) in a vector? (★★☆)"
   ]
  },
  {
   "cell_type": "code",
   "execution_count": 49,
   "metadata": {},
   "outputs": [
    {
     "name": "stdout",
     "output_type": "stream",
     "text": [
      "[50 53 56 59 62 65 68 71 74 77 80 83 86 89 92 95 98]\n",
      "66\n",
      "65\n"
     ]
    }
   ],
   "source": [
    "vector = np.arange(50, 100, 3)\n",
    "print(vector)\n",
    "scalar = np.random.randint(50,100)\n",
    "print(scalar)\n",
    "index = (np.abs(vector-scalar)).argmin()\n",
    "print(vector[index])"
   ]
  },
  {
   "cell_type": "markdown",
   "metadata": {},
   "source": [
    "#### 51. Create a structured array representing a position (x,y) and a color (r,g,b) (★★☆)"
   ]
  },
  {
   "cell_type": "code",
   "execution_count": 50,
   "metadata": {},
   "outputs": [
    {
     "name": "stdout",
     "output_type": "stream",
     "text": [
      "[[[((0., 0.), (198, 198, 198))]\n",
      "  [((1., 0.), (198, 198, 198))]\n",
      "  [((2., 0.), (198, 198, 198))]\n",
      "  [((3., 0.), (198, 198, 198))]]\n",
      "\n",
      " [[((0., 1.), (198, 198, 198))]\n",
      "  [((1., 1.), (198, 198, 198))]\n",
      "  [((2., 1.), (198, 198, 198))]\n",
      "  [((3., 1.), (198, 198, 198))]]\n",
      "\n",
      " [[((0., 2.), (198, 198, 198))]\n",
      "  [((1., 2.), (198, 198, 198))]\n",
      "  [((2., 2.), (198, 198, 198))]\n",
      "  [((3., 2.), (198, 198, 198))]]\n",
      "\n",
      " [[((0., 3.), (198, 198, 198))]\n",
      "  [((1., 3.), (198, 198, 198))]\n",
      "  [((2., 3.), (198, 198, 198))]\n",
      "  [((3., 3.), (198, 198, 198))]]]\n"
     ]
    }
   ],
   "source": [
    "structured_array = np.zeros((4, 4, 1), [ ('position', [('x', np.float64), ('y', np.float64)]), ('color', [('r', np.int16), ('g', np.int16), ('b', np.int16)])])\n",
    "structured_array['position']['x'], structured_array['position']['y'], structured_array['color'] = np.meshgrid(np.linspace(0, 3, 4, endpoint=True), np.linspace(0, 3, 4, endpoint=True), np.random.randint(low=0, high=255, size=(1)))\n",
    "print(structured_array)"
   ]
  },
  {
   "cell_type": "code",
   "execution_count": 51,
   "metadata": {},
   "outputs": [
    {
     "data": {
      "text/plain": [
       "array([60])"
      ]
     },
     "execution_count": 51,
     "metadata": {},
     "output_type": "execute_result"
    }
   ],
   "source": [
    "np.random.randint(low=0, high=255, size=(1))"
   ]
  },
  {
   "cell_type": "code",
   "execution_count": 52,
   "metadata": {},
   "outputs": [
    {
     "name": "stdout",
     "output_type": "stream",
     "text": [
      "[((0., 0.), (0., 0., 0.)) ((0., 0.), (0., 0., 0.))\n",
      " ((0., 0.), (0., 0., 0.)) ((0., 0.), (0., 0., 0.))\n",
      " ((0., 0.), (0., 0., 0.)) ((0., 0.), (0., 0., 0.))\n",
      " ((0., 0.), (0., 0., 0.)) ((0., 0.), (0., 0., 0.))\n",
      " ((0., 0.), (0., 0., 0.)) ((0., 0.), (0., 0., 0.))]\n"
     ]
    }
   ],
   "source": [
    "Z = np.zeros(10, [('position', [('x', float), ('y', float)]), ('color', [('r', float), ('g', float), ('b', float)])])\n",
    "print(Z)"
   ]
  },
  {
   "cell_type": "markdown",
   "metadata": {},
   "source": [
    "#### 52. Consider a random vector with shape (100,2) representing coordinates, find point by point distances (★★☆)"
   ]
  },
  {
   "cell_type": "code",
   "execution_count": 53,
   "metadata": {},
   "outputs": [
    {
     "name": "stdout",
     "output_type": "stream",
     "text": [
      "[[55  0]\n",
      " [80 48]\n",
      " [79 40]\n",
      " ...\n",
      " [66 12]\n",
      " [69 32]\n",
      " [74 56]]\n"
     ]
    },
    {
     "data": {
      "text/plain": [
       "array([[ 0.        , 54.12023651, 46.64761516, ..., 16.2788206 ,\n",
       "        34.92849839, 59.13543777],\n",
       "       [54.12023651,  0.        ,  8.06225775, ..., 38.62641583,\n",
       "        19.41648784, 10.        ],\n",
       "       [46.64761516,  8.06225775,  0.        , ..., 30.87069808,\n",
       "        12.80624847, 16.76305461],\n",
       "       ...,\n",
       "       [16.2788206 , 38.62641583, 30.87069808, ...,  0.        ,\n",
       "        20.22374842, 44.72135955],\n",
       "       [34.92849839, 19.41648784, 12.80624847, ..., 20.22374842,\n",
       "         0.        , 24.51530134],\n",
       "       [59.13543777, 10.        , 16.76305461, ..., 44.72135955,\n",
       "        24.51530134,  0.        ]])"
      ]
     },
     "execution_count": 53,
     "metadata": {},
     "output_type": "execute_result"
    }
   ],
   "source": [
    "np.set_printoptions(threshold=6)\n",
    "x_y_coordinates = np.random.randint(100, size=(100,2))\n",
    "print(x_y_coordinates)\n",
    "x_coordinates, y_coordinates = x_y_coordinates[:,0], x_y_coordinates[:,1]\n",
    "x_coordinates = x_coordinates.reshape(x_coordinates.shape[0],1)\n",
    "y_coordinates = y_coordinates.reshape(y_coordinates.shape[0],1)\n",
    "distance_matrix = np.sqrt(np.square(x_coordinates-x_coordinates.T) + np.square(y_coordinates-y_coordinates.T))\n",
    "distance_matrix"
   ]
  },
  {
   "cell_type": "markdown",
   "metadata": {},
   "source": [
    "#### 53. How to convert a float (32 bits) array into an integer (32 bits) in place?"
   ]
  },
  {
   "cell_type": "code",
   "execution_count": 54,
   "metadata": {},
   "outputs": [
    {
     "name": "stdout",
     "output_type": "stream",
     "text": [
      "[0.5780966  0.9293439  0.5035396  ... 0.30106473 0.9892366  0.3045566 ] float32\n",
      "[0 0 0 ... 0 0 0] int32\n"
     ]
    }
   ],
   "source": [
    "numpy_float_array = np.random.rand(10).astype(np.float32)\n",
    "print(numpy_float_array, numpy_float_array.dtype)\n",
    "numpy_integer_array = numpy_float_array.astype('i')\n",
    "print(numpy_integer_array, numpy_integer_array.dtype)"
   ]
  },
  {
   "cell_type": "markdown",
   "metadata": {},
   "source": [
    "#### 54. How to read the following file? (★★☆)\n",
    "```\n",
    "1, 2, 3, 4, 5\n",
    "6,  ,  , 7, 8\n",
    " ,  , 9,10,11\n",
    "```"
   ]
  },
  {
   "cell_type": "code",
   "execution_count": 55,
   "metadata": {},
   "outputs": [
    {
     "name": "stdout",
     "output_type": "stream",
     "text": [
      "[[ 1  2  3  4  5]\n",
      " [ 6  0  0  7  8]\n",
      " [ 0  0  9 10 11]]\n"
     ]
    }
   ],
   "source": [
    "# To read this file into a numpy array, we can use the genfromtxt function.\n",
    "from io import StringIO\n",
    "\n",
    "s = StringIO('''1, 2, 3, 4, 5\n",
    "                6,  ,  , 7, 8\n",
    "                 ,  , 9,10,11\n",
    "''')\n",
    "Z = np.genfromtxt(s, delimiter=\",\", missing_values=' ', filling_values=0, dtype=np.int8)\n",
    "print(Z)"
   ]
  },
  {
   "cell_type": "markdown",
   "metadata": {},
   "source": [
    "#### 55. What is the equivalent of enumerate for numpy arrays? (★★☆)"
   ]
  },
  {
   "cell_type": "code",
   "execution_count": 56,
   "metadata": {},
   "outputs": [
    {
     "name": "stdout",
     "output_type": "stream",
     "text": [
      "(0,) apple\n",
      "(1,) banana\n",
      "(2,) cherry\n",
      "(3,) guava\n",
      "(4,) jackfruit\n",
      "(5,) mango\n",
      "(6,) orange\n",
      "(7,) papaya\n",
      "(8,) sitafal\n"
     ]
    }
   ],
   "source": [
    "numpy_array = np.array(['apple', 'banana', 'cherry', 'guava', 'jackfruit', 'mango', 'orange', 'papaya', 'sitafal'])\n",
    "for index, i in np.ndenumerate(numpy_array):\n",
    "    print(index, i)"
   ]
  },
  {
   "cell_type": "markdown",
   "metadata": {},
   "source": [
    "#### 56. Generate a generic 2D Gaussian-like array (★★☆)"
   ]
  },
  {
   "cell_type": "code",
   "execution_count": 57,
   "metadata": {},
   "outputs": [
    {
     "data": {
      "text/plain": [
       "array([[ 0.74952353,  2.01363149],\n",
       "       [ 0.95405444,  2.65100123],\n",
       "       [ 0.99191206,  2.49869753],\n",
       "       [-0.71499304,  0.9917297 ],\n",
       "       [ 1.76828321,  2.315716  ],\n",
       "       [ 1.75676912,  2.2728857 ],\n",
       "       [-1.50163281,  2.43789928],\n",
       "       [ 1.2680285 ,  0.43063725],\n",
       "       [ 2.32434015,  2.21756814],\n",
       "       [ 0.14974271,  0.14369955],\n",
       "       [ 1.60506509,  2.16387543],\n",
       "       [-0.79287776,  0.55365258],\n",
       "       [ 1.45901245,  1.80887507],\n",
       "       [ 0.69125255,  1.98431262],\n",
       "       [ 2.02847351,  3.13209944],\n",
       "       [ 1.93363604,  1.11986883],\n",
       "       [ 0.91552806,  1.94915585],\n",
       "       [ 0.20773657,  3.67248174],\n",
       "       [-0.8493481 ,  1.85171804],\n",
       "       [-0.26869751,  1.19641988],\n",
       "       [-0.77093092,  1.20570355],\n",
       "       [ 2.30863297,  3.1138    ],\n",
       "       [ 1.66279753,  0.11436574],\n",
       "       [ 1.09019181,  3.43566712],\n",
       "       [ 1.61828149,  1.99758399],\n",
       "       [ 0.31786815,  1.37576237],\n",
       "       [ 1.58712239,  2.17366198],\n",
       "       [ 1.33474007,  1.7173404 ],\n",
       "       [-0.83993438,  3.15958851],\n",
       "       [ 1.47379289,  1.71732322],\n",
       "       [ 1.47024248,  2.34025932],\n",
       "       [ 2.54876487,  1.21919542],\n",
       "       [ 1.36352114,  2.4597543 ],\n",
       "       [ 0.14523068,  2.83109566],\n",
       "       [ 0.22114654,  1.15989807],\n",
       "       [ 3.33636868,  2.5014577 ],\n",
       "       [ 1.86768742,  2.39456458],\n",
       "       [ 1.3230812 ,  2.89170943],\n",
       "       [ 1.50493533,  0.21850474],\n",
       "       [-0.20411492,  1.11089574],\n",
       "       [ 0.70934489,  2.72313476],\n",
       "       [ 1.07970361,  1.30704528],\n",
       "       [ 0.8157427 ,  0.78566605],\n",
       "       [-1.17324465, -1.23686247],\n",
       "       [ 0.24685965,  2.19235357],\n",
       "       [ 2.25174019,  2.47646068],\n",
       "       [-0.1533697 ,  0.27019531],\n",
       "       [ 0.66526926, -0.47268609],\n",
       "       [ 2.23513406,  1.33210785],\n",
       "       [ 0.49970113,  3.50275524],\n",
       "       [-0.5311496 ,  2.43693709],\n",
       "       [ 1.18499004,  2.04355711],\n",
       "       [-0.06417513, -0.14271393],\n",
       "       [ 1.85015992,  1.94522008],\n",
       "       [ 0.2918449 ,  1.91981383],\n",
       "       [ 0.92729935,  1.39629801],\n",
       "       [-0.07397798,  1.07827361],\n",
       "       [ 0.01228764,  0.29252512],\n",
       "       [ 1.16229081,  1.25815333],\n",
       "       [ 1.87065679,  2.24834615],\n",
       "       [ 0.74697852,  0.0498615 ],\n",
       "       [ 2.0079043 ,  0.59062008],\n",
       "       [ 1.25695247,  4.2748468 ],\n",
       "       [-0.05456566,  1.92918976],\n",
       "       [-0.07177485,  2.86841257],\n",
       "       [ 0.52203407,  2.10585931],\n",
       "       [ 1.7116626 ,  2.23796269],\n",
       "       [ 1.3762983 ,  0.34359399],\n",
       "       [ 2.14222733,  1.6205782 ],\n",
       "       [ 0.38272475,  2.29990375],\n",
       "       [ 1.26775273,  1.46583102],\n",
       "       [ 0.861065  ,  0.72306284],\n",
       "       [ 1.30083683,  1.43050312],\n",
       "       [-0.96783982,  2.12388957],\n",
       "       [ 2.27619223,  3.74269182],\n",
       "       [ 0.66909913,  2.36680074],\n",
       "       [ 1.87402035,  1.6812805 ],\n",
       "       [ 0.70506928,  2.81457016],\n",
       "       [-0.53278809,  1.67234092],\n",
       "       [-0.43511765,  2.02112322],\n",
       "       [ 0.75222805,  3.40463749],\n",
       "       [ 2.23073446,  1.56363725],\n",
       "       [ 1.75087494,  2.52152203],\n",
       "       [ 0.0841449 ,  1.3749322 ],\n",
       "       [ 0.38264685,  2.61997066],\n",
       "       [ 0.28553763,  1.95403977],\n",
       "       [ 1.06211527,  0.1751895 ],\n",
       "       [-0.06733167,  3.33514096],\n",
       "       [ 2.71001728,  2.3974185 ],\n",
       "       [ 1.36904054,  3.31126091],\n",
       "       [-0.18696881,  2.09951063],\n",
       "       [ 0.41070948,  1.50782974],\n",
       "       [ 1.00109776,  3.67581643],\n",
       "       [ 1.60147271,  2.35461189],\n",
       "       [ 0.25425058,  1.45222907],\n",
       "       [-0.32572248,  2.8841295 ],\n",
       "       [ 1.19526199,  1.47814842],\n",
       "       [ 1.51745808,  1.71306212],\n",
       "       [ 3.66087719,  2.57471567],\n",
       "       [ 0.14777114,  2.60033003]])"
      ]
     },
     "execution_count": 57,
     "metadata": {},
     "output_type": "execute_result"
    }
   ],
   "source": [
    "import sys\n",
    "np.set_printoptions(threshold=sys.maxsize)\n",
    "mean = (1, 2)\n",
    "cov = [[1, 0], [0, 1]]\n",
    "np.random.multivariate_normal(mean, cov, 100)"
   ]
  },
  {
   "cell_type": "markdown",
   "metadata": {},
   "source": [
    "#### 57. How to randomly place p elements in a 2D array? (★★☆)"
   ]
  },
  {
   "cell_type": "code",
   "execution_count": 58,
   "metadata": {},
   "outputs": [
    {
     "name": "stdout",
     "output_type": "stream",
     "text": [
      "Original array: [[0 0 0 0 0 0 0 0 0 0]\n",
      " [0 0 0 0 0 0 0 0 0 0]\n",
      " [0 0 0 0 0 0 0 0 0 0]\n",
      " [0 0 0 0 0 0 0 0 0 0]\n",
      " [0 0 0 0 0 0 0 0 0 0]\n",
      " [0 0 0 0 0 0 0 0 0 0]\n",
      " [0 0 0 0 0 0 0 0 0 0]\n",
      " [0 0 0 0 0 0 0 0 0 0]\n",
      " [0 0 0 0 0 0 0 0 0 0]\n",
      " [0 0 0 0 0 0 0 0 0 0]]\n"
     ]
    },
    {
     "name": "stdin",
     "output_type": "stream",
     "text": [
      "How much value you want to replace: 20\n"
     ]
    },
    {
     "name": "stdout",
     "output_type": "stream",
     "text": [
      "Indexes where 0 will be replaced: [array([0, 4]), array([9, 9]), array([4, 4]), array([4, 2]), array([3, 8]), array([0, 9]), array([7, 7]), array([7, 4]), array([0, 5]), array([4, 8]), array([7, 0]), array([8, 1]), array([2, 3]), array([1, 6]), array([1, 4]), array([3, 6]), array([5, 3]), array([0, 7]), array([6, 9]), array([5, 0])]\n",
      "New elements: [7, 5, 4, 6, 6, 9, 1, 5, 8, 8, 3, 2, 8, 7, 7, 4, 1, 8, 9, 5]\n",
      "Modified array: [[0 0 0 0 7 8 0 8 0 9]\n",
      " [0 0 0 0 7 0 7 0 0 0]\n",
      " [0 0 0 8 0 0 0 0 0 0]\n",
      " [0 0 0 0 0 0 4 0 6 0]\n",
      " [0 0 6 0 4 0 0 0 8 0]\n",
      " [5 0 0 1 0 0 0 0 0 0]\n",
      " [0 0 0 0 0 0 0 0 0 9]\n",
      " [3 0 0 0 5 0 0 1 0 0]\n",
      " [0 2 0 0 0 0 0 0 0 0]\n",
      " [0 0 0 0 0 0 0 0 0 5]]\n"
     ]
    }
   ],
   "source": [
    "numpy_array = np.zeros((10,10), dtype = np.int32)\n",
    "print(\"Original array:\", numpy_array)\n",
    "p = int(input('How much value you want to replace:'))\n",
    "indexes = []\n",
    "for i in range(p):\n",
    "    indexes.append(np.random.randint(numpy_array.shape[0], size=(numpy_array.ndim)))\n",
    "print(\"Indexes where 0 will be replaced:\", indexes)\n",
    "new_elements = []\n",
    "for index in indexes:\n",
    "    element = np.random.randint(10)\n",
    "    new_elements.append(element)\n",
    "    numpy_array[index[0]][index[1]] = element\n",
    "print(\"New elements:\", new_elements)\n",
    "print(\"Modified array:\", numpy_array)"
   ]
  },
  {
   "cell_type": "code",
   "execution_count": 59,
   "metadata": {},
   "outputs": [
    {
     "data": {
      "text/plain": [
       "(array([0, 4]), 0)"
      ]
     },
     "execution_count": 59,
     "metadata": {},
     "output_type": "execute_result"
    }
   ],
   "source": [
    "indexes[0], indexes[0][0]"
   ]
  },
  {
   "cell_type": "markdown",
   "metadata": {},
   "source": [
    "#### 58. Subtract the mean of each row of a matrix (★★☆)"
   ]
  },
  {
   "cell_type": "code",
   "execution_count": 60,
   "metadata": {},
   "outputs": [
    {
     "name": "stdout",
     "output_type": "stream",
     "text": [
      "Original matrix: [[96 70 16 83 39]\n",
      " [49 25 62 94 53]\n",
      " [19  0 37 93  7]\n",
      " [93 72  8 82 96]\n",
      " [ 8 13 62 29 27]]\n",
      "Modified matrix with element contain only integer value associated with a number: [[ 35   9 -44  22 -21]\n",
      " [ -7 -31   5  37  -3]\n",
      " [-12 -31   5  61 -24]\n",
      " [ 22   1 -62  11  25]\n",
      " [-19 -14  34   1   0]]\n"
     ]
    }
   ],
   "source": [
    "Matrix = np.random.randint(100, size=(5,5))\n",
    "print(\"Original matrix:\", Matrix)\n",
    "for i in range(len(Matrix)):\n",
    "    row_mean = np.mean(Matrix[i])\n",
    "    for j in range(len(Matrix[i])):\n",
    "        Matrix[i][j] -= row_mean\n",
    "print(\"Modified matrix with element contain only integer value associated with a number:\", Matrix)"
   ]
  },
  {
   "cell_type": "markdown",
   "metadata": {},
   "source": [
    "#### 59. How to sort an array by the nth column? (★★☆)"
   ]
  },
  {
   "cell_type": "code",
   "execution_count": 61,
   "metadata": {},
   "outputs": [
    {
     "data": {
      "text/plain": [
       "array([[ 22,   1, -62,  11,  25],\n",
       "       [ 35,   9, -44,  22, -21],\n",
       "       [ -7, -31,   5,  37,  -3],\n",
       "       [-12, -31,   5,  61, -24],\n",
       "       [-19, -14,  34,   1,   0]])"
      ]
     },
     "execution_count": 61,
     "metadata": {},
     "output_type": "execute_result"
    }
   ],
   "source": [
    "n = 2 # column number along which array need to be sorted\n",
    "Matrix[Matrix[:, n].argsort()]"
   ]
  },
  {
   "cell_type": "markdown",
   "metadata": {},
   "source": [
    "#### 60. How to tell if a given 2D array has null columns? (★★☆)"
   ]
  },
  {
   "cell_type": "code",
   "execution_count": 62,
   "metadata": {},
   "outputs": [
    {
     "name": "stdout",
     "output_type": "stream",
     "text": [
      "Not a null column: 0\n",
      "Not a null column: 1\n",
      "Not a null column: 2\n",
      "Not a null column: 3\n",
      "Not a null column: 4\n"
     ]
    }
   ],
   "source": [
    "for i in range(len(Matrix[0])):\n",
    "    if np.sum(Matrix[:, i]) == 0:\n",
    "        print(\"a null column:\", i)\n",
    "    else:\n",
    "        print(\"Not a null column:\", i)"
   ]
  },
  {
   "cell_type": "markdown",
   "metadata": {},
   "source": [
    "#### 61. Find the nearest value from a given value in an array (★★☆)"
   ]
  },
  {
   "cell_type": "code",
   "execution_count": 63,
   "metadata": {},
   "outputs": [
    {
     "name": "stdout",
     "output_type": "stream",
     "text": [
      "[50 53 56 59 62 65 68 71 74 77 80 83 86 89 92 95 98]\n",
      "90\n",
      "89\n"
     ]
    }
   ],
   "source": [
    "vector = np.arange(50, 100, 3)\n",
    "print(vector)\n",
    "scalar = np.random.randint(50,100)\n",
    "print(scalar)\n",
    "index = (np.abs(vector-scalar)).argmin()\n",
    "print(vector[index])"
   ]
  },
  {
   "cell_type": "markdown",
   "metadata": {},
   "source": [
    "#### 62. Considering two arrays with shape (1,3) and (3,1), how to compute their sum using an iterator? (★★☆)"
   ]
  },
  {
   "cell_type": "code",
   "execution_count": 64,
   "metadata": {},
   "outputs": [
    {
     "data": {
      "text/plain": [
       "6.0"
      ]
     },
     "execution_count": 64,
     "metadata": {},
     "output_type": "execute_result"
    }
   ],
   "source": [
    "numpy_array_1 = np.linspace(0,2,3).reshape(1,3)\n",
    "numpy_array_2 = np.linspace(0,2,3).reshape(3,1)\n",
    "sum = 0\n",
    "for i, j in zip(np.nditer(numpy_array_1), np.nditer(numpy_array_2)):\n",
    "    sum += (i + j)\n",
    "sum"
   ]
  },
  {
   "cell_type": "markdown",
   "metadata": {},
   "source": [
    "#### 63. Create an array class that has a name attribute (★★☆)"
   ]
  },
  {
   "cell_type": "code",
   "execution_count": 65,
   "metadata": {},
   "outputs": [
    {
     "name": "stdout",
     "output_type": "stream",
     "text": [
      "The name of the array is \" 10_numbers \" and the array is [0 1 2 3 4 5 6 7 8 9]\n"
     ]
    }
   ],
   "source": [
    "class array_class:\n",
    "    def __init__(self, array, name):\n",
    "        self.numpy_array = array\n",
    "        self.array_name = name\n",
    "    def printname(self):\n",
    "        print('The name of the array is \"', self.array_name, '\" and the array is', self.numpy_array)\n",
    "\n",
    "array = array_class(np.arange(0,10,1), \"10_numbers\")\n",
    "array.printname()"
   ]
  },
  {
   "cell_type": "markdown",
   "metadata": {},
   "source": [
    "#### 64. Consider a given vector, how to add 1 to each element indexed by a second vector (be careful with repeated indices)? (★★★)"
   ]
  },
  {
   "cell_type": "code",
   "execution_count": 66,
   "metadata": {},
   "outputs": [
    {
     "name": "stdout",
     "output_type": "stream",
     "text": [
      "[55 59  7 32 91 63 37 34 40 17]\n",
      "[5 8 8 9 2]\n",
      "[2 5 8 9]\n",
      "[55 59  8 32 91 64 37 34 41 18]\n"
     ]
    }
   ],
   "source": [
    "numpy_array = np.random.randint(0, 100, size=(10))\n",
    "print(numpy_array)\n",
    "second_vector = np.random.randint(0, numpy_array.shape[0], size = numpy_array.shape[0]-5)\n",
    "print(second_vector)\n",
    "second_vector_unique = np.unique(second_vector)\n",
    "print(second_vector_unique)\n",
    "for i in second_vector_unique:\n",
    "    numpy_array[i] += 1\n",
    "print(numpy_array)"
   ]
  },
  {
   "cell_type": "markdown",
   "metadata": {},
   "source": [
    "#### 65. How to accumulate elements of a vector (X) to an array (F) based on an index list (I)? (★★★)"
   ]
  },
  {
   "cell_type": "code",
   "execution_count": 67,
   "metadata": {},
   "outputs": [
    {
     "name": "stdout",
     "output_type": "stream",
     "text": [
      "[70 70 68 70 45 50 93 83 36 77]\n",
      "[8 1 4 0 0]\n",
      "[0 1 4 8]\n",
      "[70 70 45 36]\n"
     ]
    }
   ],
   "source": [
    "X = np.random.randint(0, 100, size=(10))\n",
    "print(X)\n",
    "I = np.random.randint(0, numpy_array.shape[0], size = numpy_array.shape[0]-5)\n",
    "print(I)\n",
    "I_unique = np.unique(I)\n",
    "print(I_unique)\n",
    "F = np.array([], dtype=np.int32)\n",
    "for i in I_unique:\n",
    "    F = np.append(F, X[i])\n",
    "print(F)"
   ]
  },
  {
   "cell_type": "markdown",
   "metadata": {},
   "source": [
    "#### 66. Considering a (w,h,3) image of (dtype=ubyte), compute the number of unique colors (★★★)"
   ]
  },
  {
   "cell_type": "code",
   "execution_count": 68,
   "metadata": {},
   "outputs": [
    {
     "name": "stdout",
     "output_type": "stream",
     "text": [
      "[[[ 32 117 201]\n",
      "  [ 87  64  97]\n",
      "  [208  64 148]\n",
      "  ...\n",
      "  [ 73 221 228]\n",
      "  [ 40 164  88]\n",
      "  [ 74  38  79]]\n",
      "\n",
      " [[140  88  26]\n",
      "  [238  14 159]\n",
      "  [182  14 240]\n",
      "  ...\n",
      "  [119 174  45]\n",
      "  [186 136 103]\n",
      "  [ 40  59  89]]\n",
      "\n",
      " [[ 70 177  35]\n",
      "  [  9 243 232]\n",
      "  [ 39 224 101]\n",
      "  ...\n",
      "  [170 242 254]\n",
      "  [ 41 239  11]\n",
      "  [ 14  86  41]]\n",
      "\n",
      " ...\n",
      "\n",
      " [[183 135 239]\n",
      "  [ 72  82 138]\n",
      "  [233 206 138]\n",
      "  ...\n",
      "  [ 58 127  53]\n",
      "  [ 80 248 188]\n",
      "  [138 131 248]]\n",
      "\n",
      " [[  8 191 129]\n",
      "  [153  48  41]\n",
      "  [143 103 125]\n",
      "  ...\n",
      "  [ 57 184  46]\n",
      "  [128  69  82]\n",
      "  [232 167  12]]\n",
      "\n",
      " [[ 18 118  44]\n",
      "  [  8  80 193]\n",
      "  [194   0  43]\n",
      "  ...\n",
      "  [141  57 153]\n",
      "  [103 128  43]\n",
      "  [166  43  64]]]\n",
      "100\n"
     ]
    }
   ],
   "source": [
    "np.set_printoptions(threshold=6)\n",
    "h, w = 10, 10\n",
    "image = np.random.randint(0, high=255, size=(h,w,3), dtype=np.ubyte) #UByte is an 8-bit unsigned integral data type, with values ranging from 0 to 255, inclusive\n",
    "print(image)\n",
    "colors = np.unique(image.reshape(-1, 3), axis=0)\n",
    "n = len(colors)\n",
    "print(n)"
   ]
  },
  {
   "cell_type": "markdown",
   "metadata": {},
   "source": [
    "#### 67. Considering a four dimensions array, how to get sum over the last two axis at once? (★★★)"
   ]
  },
  {
   "cell_type": "code",
   "execution_count": 69,
   "metadata": {},
   "outputs": [
    {
     "name": "stdout",
     "output_type": "stream",
     "text": [
      "Original array:\n",
      " [[[[3 3]\n",
      "   [1 3]]\n",
      "\n",
      "  [[0 2]\n",
      "   [2 2]]]\n",
      "\n",
      "\n",
      " [[[0 3]\n",
      "   [2 4]]\n",
      "\n",
      "  [[3 0]\n",
      "   [0 3]]]]\n",
      "Array after sum over the last two axis at once:\n",
      " [[10  6]\n",
      " [ 9  6]]\n"
     ]
    }
   ],
   "source": [
    "numpy_array = np.random.randint(0,5, size=(2,2,2,2))\n",
    "print(\"Original array:\\n\", numpy_array)\n",
    "print(\"Array after sum over the last two axis at once:\\n\", np.sum(numpy_array, axis=(-2,-1)))"
   ]
  },
  {
   "cell_type": "markdown",
   "metadata": {},
   "source": [
    "#### 68. Considering a one-dimensional vector D, how to compute means of subsets of D using a vector S of same size describing subset  indices? (★★★)"
   ]
  },
  {
   "cell_type": "code",
   "execution_count": 70,
   "metadata": {},
   "outputs": [
    {
     "name": "stdout",
     "output_type": "stream",
     "text": [
      "Original array:\n",
      " [9 1 9 5 1 9 8 3 1 4]\n",
      "Subset indices over which mean to be taken from D: [[2 5 4]\n",
      " [4 1 6]\n",
      " [0 8 1]\n",
      " [1 0 9]\n",
      " [0 8 5]\n",
      " [0 8 4]\n",
      " [8 5 2]\n",
      " [9 3 5]\n",
      " [0 7 5]\n",
      " [0 1 5]]\n",
      "New array consisting of mean of elements [6.33333333 3.33333333 3.66666667 4.66666667 6.33333333 3.66666667\n",
      " 6.33333333 6.         7.         6.33333333]\n"
     ]
    }
   ],
   "source": [
    "np.set_printoptions(threshold=float('inf'))\n",
    "numpy_array = np.random.randint(0,10, size=10)\n",
    "print(\"Original array:\\n\", numpy_array)\n",
    "subset_indices = np.random.randint(0,numpy_array.shape[0], size=(numpy_array.shape[0], np.random.randint(0,10)))\n",
    "print(\"Subset indices over which mean to be taken from D:\", subset_indices)\n",
    "new_array = np.array([])\n",
    "for subset_index in subset_indices:\n",
    "    new_array = np.append(new_array, np.mean(np.array(numpy_array)[np.unique(subset_index)]))\n",
    "print(\"New array consisting of mean of elements\", new_array)"
   ]
  },
  {
   "cell_type": "markdown",
   "metadata": {},
   "source": [
    "#### 69. How to get the diagonal of a dot product? (★★★)"
   ]
  },
  {
   "cell_type": "code",
   "execution_count": 71,
   "metadata": {},
   "outputs": [
    {
     "name": "stdout",
     "output_type": "stream",
     "text": [
      "Matrix A:\n",
      " [[2 3 4 0 1]\n",
      " [3 2 3 3 1]\n",
      " [4 3 2 3 0]\n",
      " [0 1 3 2 2]\n",
      " [2 3 4 3 4]]\n",
      "Matrix B:\n",
      " [[1 2 0 2 2]\n",
      " [2 0 1 1 3]\n",
      " [1 1 0 2 2]\n",
      " [2 3 0 1 2]\n",
      " [1 1 0 4 0]]\n",
      "Dot product matrix:\n",
      " [[13  9  3 19 21]\n",
      " [17 19  2 21 24]\n",
      " [18 19  3 18 27]\n",
      " [11 11  1 17 13]\n",
      " [22 21  3 34 27]]\n",
      "Diagonal of the dot product matrix:\n",
      " [13 19  3 17 27]\n"
     ]
    }
   ],
   "source": [
    "A = np.random.randint(0,5,(5,5))\n",
    "print(\"Matrix A:\\n\", A)\n",
    "B = np.random.randint(0,5,(5,5))\n",
    "print(\"Matrix B:\\n\", B)\n",
    "print(\"Dot product matrix:\\n\", np.dot(A,B))\n",
    "print(\"Diagonal of the dot product matrix:\\n\", np.diag(np.dot(A,B)))"
   ]
  },
  {
   "cell_type": "markdown",
   "metadata": {},
   "source": [
    "#### 70. Consider the vector [1, 2, 3, 4, 5], how to build a new vector with 3 consecutive zeros interleaved between each value? (★★★)"
   ]
  },
  {
   "cell_type": "code",
   "execution_count": 72,
   "metadata": {},
   "outputs": [],
   "source": [
    "numpy_array = np.array([1,2,3,4,5])"
   ]
  },
  {
   "cell_type": "code",
   "execution_count": 73,
   "metadata": {},
   "outputs": [
    {
     "data": {
      "text/plain": [
       "array([1., 0., 0., 0., 2., 0., 0., 0., 3., 0., 0., 0., 4., 0., 0., 0., 5.])"
      ]
     },
     "execution_count": 73,
     "metadata": {},
     "output_type": "execute_result"
    }
   ],
   "source": [
    "interpolate_numpy_array = np.zeros(numpy_array.shape[0] + 3*(numpy_array.shape[0] - 1))\n",
    "interpolate_numpy_array[::3+1] = numpy_array\n",
    "interpolate_numpy_array"
   ]
  },
  {
   "cell_type": "markdown",
   "metadata": {},
   "source": [
    "#### 71. Consider an array of dimension (5,5,3), how to mulitply it by an array with dimensions (5,5)? (★★★)"
   ]
  },
  {
   "cell_type": "code",
   "execution_count": 74,
   "metadata": {},
   "outputs": [
    {
     "name": "stdout",
     "output_type": "stream",
     "text": [
      "(5, 5, 3)\n",
      "(5, 5)\n",
      "(5, 5, 1)\n",
      "[[[ 0  0  0]\n",
      "  [ 0  2  8]\n",
      "  [ 0  2  1]\n",
      "  [ 8  0  8]\n",
      "  [ 0  0  0]]\n",
      "\n",
      " [[ 4  8  4]\n",
      "  [ 6  0 12]\n",
      "  [ 2  6  0]\n",
      "  [ 0  0  0]\n",
      "  [ 0  0  0]]\n",
      "\n",
      " [[ 8 16  8]\n",
      "  [ 0  6  4]\n",
      "  [ 4  0  8]\n",
      "  [ 6  2  2]\n",
      "  [12  4  4]]\n",
      "\n",
      " [[12  6  9]\n",
      "  [ 0  0  0]\n",
      "  [ 3  3  3]\n",
      "  [ 6  6  3]\n",
      "  [ 6  0  6]]\n",
      "\n",
      " [[ 0 12  9]\n",
      "  [ 0  0  0]\n",
      "  [ 0  4  4]\n",
      "  [ 3  0  2]\n",
      "  [ 2  6  8]]]\n"
     ]
    }
   ],
   "source": [
    "numpy_array_1 = np.random.randint(0,5, size=(5,5,3))\n",
    "print(numpy_array_1.shape)\n",
    "numpy_array_2 = np.random.randint(0,5, size=(5,5))\n",
    "print(numpy_array_2.shape)\n",
    "numpy_array_2 = np.expand_dims(numpy_array_2, axis=(numpy_array_2.ndim))\n",
    "print(numpy_array_2.shape)\n",
    "print(np.multiply(numpy_array_1, numpy_array_2)) # element-wise multiplication"
   ]
  },
  {
   "cell_type": "markdown",
   "metadata": {},
   "source": [
    "#### 72. How to swap two rows of an array? (★★★)"
   ]
  },
  {
   "cell_type": "code",
   "execution_count": 75,
   "metadata": {},
   "outputs": [
    {
     "name": "stdout",
     "output_type": "stream",
     "text": [
      "[[1 2 2 4 0]\n",
      " [1 1 0 4 0]\n",
      " [4 2 4 1 0]\n",
      " [2 3 4 4 0]\n",
      " [3 2 4 4 2]]\n",
      "Rows swapping:\n",
      " [[1 2 2 4 0]\n",
      " [1 1 0 4 0]\n",
      " [2 3 4 4 0]\n",
      " [4 2 4 1 0]\n",
      " [3 2 4 4 2]]\n",
      "Column swapping:\n",
      " [[1 2 4 2 0]\n",
      " [1 1 4 0 0]\n",
      " [2 3 4 4 0]\n",
      " [4 2 1 4 0]\n",
      " [3 2 4 4 2]]\n"
     ]
    }
   ],
   "source": [
    "numpy_array = np.random.randint(0,5, size=(5,5))\n",
    "print(numpy_array)\n",
    "numpy_array[[2,3],] = numpy_array[[3,2],]\n",
    "print(\"Rows swapping:\\n\", numpy_array)\n",
    "numpy_array[:,[2,3]] = numpy_array[:,[3,2]]\n",
    "print(\"Column swapping:\\n\", numpy_array)"
   ]
  },
  {
   "cell_type": "markdown",
   "metadata": {},
   "source": [
    "#### 73. Consider a set of 10 triplets describing 10 triangles (with shared vertices), find the set of unique line segments composing all the  triangles (★★★)"
   ]
  },
  {
   "cell_type": "code",
   "execution_count": 76,
   "metadata": {},
   "outputs": [],
   "source": [
    "# Question not clear"
   ]
  },
  {
   "cell_type": "markdown",
   "metadata": {},
   "source": [
    "#### 74. Given an array C that is a bincount, how to produce an array A such that np.bincount(A) == C? (★★★)"
   ]
  },
  {
   "cell_type": "code",
   "execution_count": 77,
   "metadata": {},
   "outputs": [
    {
     "name": "stdout",
     "output_type": "stream",
     "text": [
      "[28 29 23]\n",
      "[0 0 0 0 0 0 0 0 0 0 0 0 0 0 0 0 0 0 0 0 0 0 0 1 0 0 0 0 1 1]\n",
      "[23 28 29]\n",
      "np.bincount(A):  [0 0 0 0 0 0 0 0 0 0 0 0 0 0 0 0 0 0 0 0 0 0 0 1 0 0 0 0 1 1]\n"
     ]
    }
   ],
   "source": [
    "numpy_array = np.random.randint(0, 30, size = np.random.randint(10)) # some random array\n",
    "print(numpy_array)\n",
    "C = np.bincount(numpy_array) # calculating the count of occuracnce of above created array\n",
    "print(C)\n",
    "A = np.repeat(np.arange(len(C)), C) # By the length of  array C, creating an array starting from zero till the length of an array, then repeating the elements similar to C\n",
    "print(A)\n",
    "print(\"np.bincount(A): \", np.bincount(A))"
   ]
  },
  {
   "cell_type": "markdown",
   "metadata": {},
   "source": [
    "#### 75. How to compute averages using a sliding window over an array? (★★★)"
   ]
  },
  {
   "cell_type": "code",
   "execution_count": 78,
   "metadata": {},
   "outputs": [
    {
     "name": "stdout",
     "output_type": "stream",
     "text": [
      "[2 3 4 5 8 3 9 3 6 0]\n"
     ]
    },
    {
     "name": "stdin",
     "output_type": "stream",
     "text": [
      "Enter the value over which average need to be taken (less than 10): 4\n"
     ]
    },
    {
     "name": "stdout",
     "output_type": "stream",
     "text": [
      "[[2 3 4 5]\n",
      " [3 4 5 8]\n",
      " [4 5 8 3]\n",
      " [5 8 3 9]\n",
      " [8 3 9 3]\n",
      " [3 9 3 6]\n",
      " [9 3 6 0]]\n",
      "[3.5  5.   5.   6.25 5.75 5.25 4.5 ]\n"
     ]
    }
   ],
   "source": [
    "numpy_array = np.random.randint(0, 10, size = 10) # some random array\n",
    "print(numpy_array)\n",
    "values_over_average = int(input(\"Enter the value over which average need to be taken (less than 10):\"))\n",
    "sliced_array = np.lib.stride_tricks.sliding_window_view(numpy_array, values_over_average)\n",
    "print(sliced_array)\n",
    "averages_array = np.array([])\n",
    "for arr in sliced_array:\n",
    "    averages_array = np.append(averages_array, np.mean(arr))\n",
    "print(averages_array)"
   ]
  },
  {
   "cell_type": "markdown",
   "metadata": {},
   "source": [
    "#### 76. Consider a one-dimensional array Z, build a two-dimensional array whose first row is (Z[0],Z[1],Z[2]) and each subsequent row is  shifted by 1 (last row should be (Z[-3],Z[-2],Z[-1]) (★★★)"
   ]
  },
  {
   "cell_type": "code",
   "execution_count": 79,
   "metadata": {},
   "outputs": [
    {
     "name": "stdout",
     "output_type": "stream",
     "text": [
      "[4 5 9 5 9 0 6 0 5 2]\n",
      "[[4 5 9]\n",
      " [5 9 5]\n",
      " [9 5 9]\n",
      " [5 9 0]\n",
      " [9 0 6]\n",
      " [0 6 0]\n",
      " [6 0 5]\n",
      " [0 5 2]]\n"
     ]
    }
   ],
   "source": [
    "Z = np.random.randint(0, 10, size = 10) # some random array\n",
    "print(Z)\n",
    "sliced_Z = np.lib.stride_tricks.sliding_window_view(Z, 3)\n",
    "print(sliced_Z)"
   ]
  },
  {
   "cell_type": "markdown",
   "metadata": {},
   "source": [
    "#### 77. How to negate a boolean, or to change the sign of a float inplace? (★★★)"
   ]
  },
  {
   "cell_type": "code",
   "execution_count": 80,
   "metadata": {},
   "outputs": [
    {
     "name": "stdout",
     "output_type": "stream",
     "text": [
      "[False False False False  True  True  True False  True False]\n",
      "[ True  True  True  True False False False  True False  True]\n",
      "[ True  True  True  True False False False  True False  True]\n",
      "[ True  True  True  True False False False  True False  True]\n",
      "[0.46403749 0.29318217 0.29315189 0.47255213 0.95891672 0.52215655\n",
      " 0.89239466 0.89319254 0.00316884 0.81568405]\n",
      "[-0.46403749 -0.29318217 -0.29315189 -0.47255213 -0.95891672 -0.52215655\n",
      " -0.89239466 -0.89319254 -0.00316884 -0.81568405]\n"
     ]
    }
   ],
   "source": [
    "p = 0.5\n",
    "bool_array = np.random.choice(a=[False, True], size=(10), p=[p, 1-p]) # generate False, True with probabilities p and 1-p respectively, of size 10.\n",
    "print(bool_array)\n",
    "negated_bool_array = ~bool_array # negate the above boolean array\n",
    "print(negated_bool_array)\n",
    "print(np.logical_not(bool_array))\n",
    "print(np.invert(bool_array))\n",
    "\n",
    "float_array = np.random.random(10)\n",
    "print(float_array)\n",
    "print(np.negative(float_array))"
   ]
  },
  {
   "cell_type": "code",
   "execution_count": 81,
   "metadata": {},
   "outputs": [
    {
     "name": "stdout",
     "output_type": "stream",
     "text": [
      "[1 1 0 0 0 0 1 1 0 0]\n",
      "[0 0 1 1 1 1 0 0 1 1]\n",
      "[-0.71697338 -0.41227681  0.32403297 -0.74795982 -0.13212122  0.67256269\n",
      "  0.08649516 -0.93308692 -0.92665414 -0.9628005 ]\n",
      "[ 0.71697338  0.41227681 -0.32403297  0.74795982  0.13212122 -0.67256269\n",
      " -0.08649516  0.93308692  0.92665414  0.9628005 ]\n"
     ]
    }
   ],
   "source": [
    "# https://github.com/rougier/numpy-100/blob/master/100_Numpy_exercises_with_hints_with_solutions.md\n",
    "Z = np.random.randint(0,2,10)\n",
    "print(Z)\n",
    "print(np.logical_not(Z, out=Z))\n",
    "\n",
    "Z = np.random.uniform(-1.0,1.0,10)\n",
    "print(Z)\n",
    "print(np.negative(Z, out=Z))"
   ]
  },
  {
   "cell_type": "markdown",
   "metadata": {},
   "source": [
    "#### 78. Consider 2 sets of points P0,P1 describing lines (2d) and a point p, how to compute distance from p to each line i (P0[i],P1[i])? (★★★)"
   ]
  },
  {
   "cell_type": "code",
   "execution_count": 82,
   "metadata": {},
   "outputs": [
    {
     "name": "stdout",
     "output_type": "stream",
     "text": [
      "The distance of point [4 2] from line joining points [[3 0]\n",
      " [4 2]] is 0.0\n",
      "The distance of point [4 2] from line joining points [[3 1]\n",
      " [0 3]] is 1.386750490563073\n"
     ]
    }
   ],
   "source": [
    "# distance reference: https://stackoverflow.com/questions/39840030/distance-between-point-and-a-line-from-two-points\n",
    "lines = np.random.randint(0,5, size=(2,2,2))\n",
    "#lines = np.array([[[1,7],[3,4]]])\n",
    "p = np.random.randint(0,5, size=(2))\n",
    "#p = np.array([2,9])\n",
    "for line in lines:\n",
    "    distance = np.linalg.norm(np.cross(line[1]-line[0], line[0]-p))/np.linalg.norm(line[1]-line[0])\n",
    "    print(\"The distance of point\", p, \"from line joining points\", line, \"is\", distance)"
   ]
  },
  {
   "cell_type": "code",
   "execution_count": 83,
   "metadata": {},
   "outputs": [
    {
     "data": {
      "text/plain": [
       "4.919349550499538"
      ]
     },
     "execution_count": 83,
     "metadata": {},
     "output_type": "execute_result"
    }
   ],
   "source": [
    "line = np.array([[[1,7],[3,4]]])\n",
    "p = np.array([2,9])\n",
    "slope = (lines[0][1][1] - lines[0][0][1])/(lines[0][1][0] - lines[0][0][0])\n",
    "intercept = lines[0][1][1] - slope*lines[0][1][0]\n",
    "slope_1 = -1/slope\n",
    "intercept_1 = p[1] - slope_1*p[0]\n",
    "x = (intercept - intercept_1)/(slope_1 - slope)\n",
    "y = slope_1*x + intercept_1\n",
    "distance = np.sqrt((p[1]-y)**2 + (p[0]-x)**2)\n",
    "distance"
   ]
  },
  {
   "cell_type": "markdown",
   "metadata": {},
   "source": [
    "#### 79. Consider 2 sets of points P0,P1 describing lines (2d) and a set of points P, how to compute distance from each point j (P[j]) to each line i (P0[i],P1[i])? (★★★)"
   ]
  },
  {
   "cell_type": "code",
   "execution_count": 84,
   "metadata": {},
   "outputs": [
    {
     "name": "stdout",
     "output_type": "stream",
     "text": [
      "The distance of point [2 4] from line joining points [[0 1]\n",
      " [2 0]] is 3.5777087639996634\n",
      "The distance of point [1 2] from line joining points [[0 1]\n",
      " [2 0]] is 1.3416407864998738\n",
      "The distance of point [4 2] from line joining points [[0 1]\n",
      " [2 0]] is 2.6832815729997477\n",
      "The distance of point [2 4] from line joining points [[4 3]\n",
      " [1 2]] is 1.5811388300841895\n",
      "The distance of point [1 2] from line joining points [[4 3]\n",
      " [1 2]] is 0.0\n",
      "The distance of point [4 2] from line joining points [[4 3]\n",
      " [1 2]] is 0.9486832980505138\n"
     ]
    }
   ],
   "source": [
    "lines = np.random.randint(0,5, size=(2,2,2))\n",
    "P = np.random.randint(0,5, size=(3,2))\n",
    "for line in lines:\n",
    "    if (line[1] == line[0]).all():\n",
    "        print(\"Both point are equal not a line:\", line)\n",
    "    else:\n",
    "        for point in P:\n",
    "            distance = np.linalg.norm(np.cross(line[1]-line[0], line[0]-point))/np.linalg.norm(line[1]-line[0])\n",
    "            print(\"The distance of point\", point, \"from line joining points\", line, \"is\", distance)"
   ]
  },
  {
   "cell_type": "markdown",
   "metadata": {},
   "source": [
    "#### 80. Consider an arbitrary array, write a function that extract a subpart with a fixed shape and centered on a given element (pad with a `fill` value when necessary) (★★★)"
   ]
  },
  {
   "cell_type": "code",
   "execution_count": 85,
   "metadata": {},
   "outputs": [
    {
     "name": "stdout",
     "output_type": "stream",
     "text": [
      "Original array [3 1 0 2 2 3 1 0 0 3]\n"
     ]
    },
    {
     "name": "stdin",
     "output_type": "stream",
     "text": [
      "With what value to be padded: 0\n"
     ]
    },
    {
     "name": "stdout",
     "output_type": "stream",
     "text": [
      "start index: 2 , end index: 5\n",
      "Extracted array [0 2 2 3]\n",
      "Final array [0 0 0 2 2 3 0 0 0 0]\n"
     ]
    }
   ],
   "source": [
    "def extract_and_center(numpy_array, pad_with):\n",
    "    a = np.random.randint(1,len(numpy_array))\n",
    "    b = np.random.randint(1,len(numpy_array))\n",
    "    if a>b:\n",
    "        dummy = a\n",
    "        a = b\n",
    "        b = dummy\n",
    "    elif a == b:\n",
    "        a -= 1\n",
    "    \n",
    "    extract = numpy_array[a:b+1]\n",
    "    print(\"start index:\", a, \", end index:\", b)\n",
    "    print(\"Extracted array\", extract)\n",
    "    new_array = np.pad(extract, (a, len(numpy_array) - b -1), 'constant', constant_values=0)\n",
    "    return new_array\n",
    "\n",
    "numpy_array = np.random.randint(0,5, size=(10))\n",
    "print(\"Original array\", numpy_array)\n",
    "pad_with = int(input(\"With what value to be padded:\"))\n",
    "final_array = extract_and_center(numpy_array, pad_with)\n",
    "print(\"Final array\", final_array)"
   ]
  },
  {
   "cell_type": "markdown",
   "metadata": {},
   "source": [
    "#### 81. Consider an array Z = [1,2,3,4,5,6,7,8,9,10,11,12,13,14], how to generate an array R = [[1,2,3,4], [2,3,4,5], [3,4,5,6], ..., [11,12,13,14]]? (★★★)"
   ]
  },
  {
   "cell_type": "code",
   "execution_count": 86,
   "metadata": {},
   "outputs": [
    {
     "name": "stdout",
     "output_type": "stream",
     "text": [
      "[ 1  2  3  4  5  6  7  8  9 10 11 12 13 14]\n",
      "[[ 1  2  3  4]\n",
      " [ 2  3  4  5]\n",
      " [ 3  4  5  6]\n",
      " [ 4  5  6  7]\n",
      " [ 5  6  7  8]\n",
      " [ 6  7  8  9]\n",
      " [ 7  8  9 10]\n",
      " [ 8  9 10 11]\n",
      " [ 9 10 11 12]\n",
      " [10 11 12 13]\n",
      " [11 12 13 14]]\n"
     ]
    }
   ],
   "source": [
    "Z = np.arange(1,15,1)\n",
    "print(Z)\n",
    "R = np.lib.stride_tricks.sliding_window_view(Z, 4)\n",
    "print(R)"
   ]
  },
  {
   "cell_type": "markdown",
   "metadata": {},
   "source": [
    "#### 82. Compute a matrix rank (★★★)"
   ]
  },
  {
   "cell_type": "code",
   "execution_count": 87,
   "metadata": {},
   "outputs": [
    {
     "name": "stdout",
     "output_type": "stream",
     "text": [
      "The matrix\n",
      " [[2 3 2 2 3]\n",
      " [3 1 0 0 3]\n",
      " [0 1 1 4 3]\n",
      " [0 1 1 3 3]\n",
      " [3 2 3 2 1]] have rank: 5\n"
     ]
    }
   ],
   "source": [
    "matrix = np.random.randint(0,5, size=(5,5))\n",
    "rank = np.linalg.matrix_rank(matrix)\n",
    "print(\"The matrix\\n\", matrix, \"have rank:\", rank)"
   ]
  },
  {
   "cell_type": "markdown",
   "metadata": {},
   "source": [
    "#### 83. How to find the most frequent value in an array?"
   ]
  },
  {
   "cell_type": "code",
   "execution_count": 88,
   "metadata": {},
   "outputs": [
    {
     "name": "stdout",
     "output_type": "stream",
     "text": [
      "[9 7 6 6 0 3 7 9 7 8]\n",
      "7\n"
     ]
    }
   ],
   "source": [
    "Z = np.random.randint(0,10,10)\n",
    "print(Z)\n",
    "most_occured_value = np.bincount(Z).argmax()\n",
    "print(most_occured_value)"
   ]
  },
  {
   "cell_type": "markdown",
   "metadata": {},
   "source": [
    "#### 84. Extract all the contiguous 3x3 blocks from a random 10x10 matrix (★★★)"
   ]
  },
  {
   "cell_type": "code",
   "execution_count": 89,
   "metadata": {},
   "outputs": [
    {
     "name": "stdout",
     "output_type": "stream",
     "text": [
      "[[4 1 3 2 1 0 3 3 3 1]\n",
      " [1 1 4 1 0 0 0 4 0 1]\n",
      " [2 4 4 0 0 2 0 4 3 1]\n",
      " [4 1 4 0 4 0 2 2 0 3]\n",
      " [2 4 2 0 4 0 4 2 1 0]\n",
      " [3 3 1 4 2 4 4 2 0 2]\n",
      " [1 0 3 4 3 3 4 1 3 2]\n",
      " [2 0 3 0 4 0 4 1 2 3]\n",
      " [2 2 1 2 4 1 4 1 3 3]\n",
      " [3 4 3 3 3 4 0 0 4 2]]\n",
      "[[[[4 1 3]\n",
      "   [1 1 4]\n",
      "   [2 4 4]]\n",
      "\n",
      "  [[1 3 2]\n",
      "   [1 4 1]\n",
      "   [4 4 0]]\n",
      "\n",
      "  [[3 2 1]\n",
      "   [4 1 0]\n",
      "   [4 0 0]]\n",
      "\n",
      "  [[2 1 0]\n",
      "   [1 0 0]\n",
      "   [0 0 2]]\n",
      "\n",
      "  [[1 0 3]\n",
      "   [0 0 0]\n",
      "   [0 2 0]]\n",
      "\n",
      "  [[0 3 3]\n",
      "   [0 0 4]\n",
      "   [2 0 4]]\n",
      "\n",
      "  [[3 3 3]\n",
      "   [0 4 0]\n",
      "   [0 4 3]]\n",
      "\n",
      "  [[3 3 1]\n",
      "   [4 0 1]\n",
      "   [4 3 1]]]\n",
      "\n",
      "\n",
      " [[[1 1 4]\n",
      "   [2 4 4]\n",
      "   [4 1 4]]\n",
      "\n",
      "  [[1 4 1]\n",
      "   [4 4 0]\n",
      "   [1 4 0]]\n",
      "\n",
      "  [[4 1 0]\n",
      "   [4 0 0]\n",
      "   [4 0 4]]\n",
      "\n",
      "  [[1 0 0]\n",
      "   [0 0 2]\n",
      "   [0 4 0]]\n",
      "\n",
      "  [[0 0 0]\n",
      "   [0 2 0]\n",
      "   [4 0 2]]\n",
      "\n",
      "  [[0 0 4]\n",
      "   [2 0 4]\n",
      "   [0 2 2]]\n",
      "\n",
      "  [[0 4 0]\n",
      "   [0 4 3]\n",
      "   [2 2 0]]\n",
      "\n",
      "  [[4 0 1]\n",
      "   [4 3 1]\n",
      "   [2 0 3]]]\n",
      "\n",
      "\n",
      " [[[2 4 4]\n",
      "   [4 1 4]\n",
      "   [2 4 2]]\n",
      "\n",
      "  [[4 4 0]\n",
      "   [1 4 0]\n",
      "   [4 2 0]]\n",
      "\n",
      "  [[4 0 0]\n",
      "   [4 0 4]\n",
      "   [2 0 4]]\n",
      "\n",
      "  [[0 0 2]\n",
      "   [0 4 0]\n",
      "   [0 4 0]]\n",
      "\n",
      "  [[0 2 0]\n",
      "   [4 0 2]\n",
      "   [4 0 4]]\n",
      "\n",
      "  [[2 0 4]\n",
      "   [0 2 2]\n",
      "   [0 4 2]]\n",
      "\n",
      "  [[0 4 3]\n",
      "   [2 2 0]\n",
      "   [4 2 1]]\n",
      "\n",
      "  [[4 3 1]\n",
      "   [2 0 3]\n",
      "   [2 1 0]]]\n",
      "\n",
      "\n",
      " [[[4 1 4]\n",
      "   [2 4 2]\n",
      "   [3 3 1]]\n",
      "\n",
      "  [[1 4 0]\n",
      "   [4 2 0]\n",
      "   [3 1 4]]\n",
      "\n",
      "  [[4 0 4]\n",
      "   [2 0 4]\n",
      "   [1 4 2]]\n",
      "\n",
      "  [[0 4 0]\n",
      "   [0 4 0]\n",
      "   [4 2 4]]\n",
      "\n",
      "  [[4 0 2]\n",
      "   [4 0 4]\n",
      "   [2 4 4]]\n",
      "\n",
      "  [[0 2 2]\n",
      "   [0 4 2]\n",
      "   [4 4 2]]\n",
      "\n",
      "  [[2 2 0]\n",
      "   [4 2 1]\n",
      "   [4 2 0]]\n",
      "\n",
      "  [[2 0 3]\n",
      "   [2 1 0]\n",
      "   [2 0 2]]]\n",
      "\n",
      "\n",
      " [[[2 4 2]\n",
      "   [3 3 1]\n",
      "   [1 0 3]]\n",
      "\n",
      "  [[4 2 0]\n",
      "   [3 1 4]\n",
      "   [0 3 4]]\n",
      "\n",
      "  [[2 0 4]\n",
      "   [1 4 2]\n",
      "   [3 4 3]]\n",
      "\n",
      "  [[0 4 0]\n",
      "   [4 2 4]\n",
      "   [4 3 3]]\n",
      "\n",
      "  [[4 0 4]\n",
      "   [2 4 4]\n",
      "   [3 3 4]]\n",
      "\n",
      "  [[0 4 2]\n",
      "   [4 4 2]\n",
      "   [3 4 1]]\n",
      "\n",
      "  [[4 2 1]\n",
      "   [4 2 0]\n",
      "   [4 1 3]]\n",
      "\n",
      "  [[2 1 0]\n",
      "   [2 0 2]\n",
      "   [1 3 2]]]\n",
      "\n",
      "\n",
      " [[[3 3 1]\n",
      "   [1 0 3]\n",
      "   [2 0 3]]\n",
      "\n",
      "  [[3 1 4]\n",
      "   [0 3 4]\n",
      "   [0 3 0]]\n",
      "\n",
      "  [[1 4 2]\n",
      "   [3 4 3]\n",
      "   [3 0 4]]\n",
      "\n",
      "  [[4 2 4]\n",
      "   [4 3 3]\n",
      "   [0 4 0]]\n",
      "\n",
      "  [[2 4 4]\n",
      "   [3 3 4]\n",
      "   [4 0 4]]\n",
      "\n",
      "  [[4 4 2]\n",
      "   [3 4 1]\n",
      "   [0 4 1]]\n",
      "\n",
      "  [[4 2 0]\n",
      "   [4 1 3]\n",
      "   [4 1 2]]\n",
      "\n",
      "  [[2 0 2]\n",
      "   [1 3 2]\n",
      "   [1 2 3]]]\n",
      "\n",
      "\n",
      " [[[1 0 3]\n",
      "   [2 0 3]\n",
      "   [2 2 1]]\n",
      "\n",
      "  [[0 3 4]\n",
      "   [0 3 0]\n",
      "   [2 1 2]]\n",
      "\n",
      "  [[3 4 3]\n",
      "   [3 0 4]\n",
      "   [1 2 4]]\n",
      "\n",
      "  [[4 3 3]\n",
      "   [0 4 0]\n",
      "   [2 4 1]]\n",
      "\n",
      "  [[3 3 4]\n",
      "   [4 0 4]\n",
      "   [4 1 4]]\n",
      "\n",
      "  [[3 4 1]\n",
      "   [0 4 1]\n",
      "   [1 4 1]]\n",
      "\n",
      "  [[4 1 3]\n",
      "   [4 1 2]\n",
      "   [4 1 3]]\n",
      "\n",
      "  [[1 3 2]\n",
      "   [1 2 3]\n",
      "   [1 3 3]]]\n",
      "\n",
      "\n",
      " [[[2 0 3]\n",
      "   [2 2 1]\n",
      "   [3 4 3]]\n",
      "\n",
      "  [[0 3 0]\n",
      "   [2 1 2]\n",
      "   [4 3 3]]\n",
      "\n",
      "  [[3 0 4]\n",
      "   [1 2 4]\n",
      "   [3 3 3]]\n",
      "\n",
      "  [[0 4 0]\n",
      "   [2 4 1]\n",
      "   [3 3 4]]\n",
      "\n",
      "  [[4 0 4]\n",
      "   [4 1 4]\n",
      "   [3 4 0]]\n",
      "\n",
      "  [[0 4 1]\n",
      "   [1 4 1]\n",
      "   [4 0 0]]\n",
      "\n",
      "  [[4 1 2]\n",
      "   [4 1 3]\n",
      "   [0 0 4]]\n",
      "\n",
      "  [[1 2 3]\n",
      "   [1 3 3]\n",
      "   [0 4 2]]]]\n"
     ]
    }
   ],
   "source": [
    "# Step size = 1\n",
    "matrix = np.random.randint(0,5, size=(10,10))\n",
    "print(matrix)\n",
    "R = np.lib.stride_tricks.sliding_window_view(matrix, (3,3))\n",
    "print(R)"
   ]
  },
  {
   "cell_type": "code",
   "execution_count": 90,
   "metadata": {},
   "outputs": [
    {
     "name": "stdout",
     "output_type": "stream",
     "text": [
      "[[2 0 4 0 3 3 3 1 4 4]\n",
      " [4 2 1 3 3 1 0 3 1 3]\n",
      " [4 1 4 0 1 1 2 2 3 0]\n",
      " [2 2 1 2 0 4 0 1 1 0]\n",
      " [2 4 0 4 1 1 4 3 1 4]\n",
      " [2 2 2 4 4 3 0 2 1 2]\n",
      " [0 0 4 3 4 1 2 3 2 1]\n",
      " [3 3 3 4 0 4 0 4 0 0]\n",
      " [1 0 2 1 4 3 1 3 1 2]\n",
      " [4 1 1 1 3 4 3 2 0 4]]\n",
      "[[[[2 0 4]\n",
      "   [4 2 1]\n",
      "   [4 1 4]]\n",
      "\n",
      "  [[0 3 3]\n",
      "   [3 3 1]\n",
      "   [0 1 1]]\n",
      "\n",
      "  [[3 1 4]\n",
      "   [0 3 1]\n",
      "   [2 2 3]]]\n",
      "\n",
      "\n",
      " [[[2 2 1]\n",
      "   [2 4 0]\n",
      "   [2 2 2]]\n",
      "\n",
      "  [[2 0 4]\n",
      "   [4 1 1]\n",
      "   [4 4 3]]\n",
      "\n",
      "  [[0 1 1]\n",
      "   [4 3 1]\n",
      "   [0 2 1]]]\n",
      "\n",
      "\n",
      " [[[0 0 4]\n",
      "   [3 3 3]\n",
      "   [1 0 2]]\n",
      "\n",
      "  [[3 4 1]\n",
      "   [4 0 4]\n",
      "   [1 4 3]]\n",
      "\n",
      "  [[2 3 2]\n",
      "   [0 4 0]\n",
      "   [1 3 1]]]]\n"
     ]
    }
   ],
   "source": [
    "# Step size = 3\n",
    "matrix = np.random.randint(0,5, size=(10,10))\n",
    "print(matrix)\n",
    "R = np.lib.stride_tricks.sliding_window_view(matrix, (3,3))[::3,::3]\n",
    "print(R)"
   ]
  },
  {
   "cell_type": "markdown",
   "metadata": {},
   "source": [
    "#### 85. Create a 2D array subclass such that Z[i,j] == Z[j,i] (★★★)"
   ]
  },
  {
   "cell_type": "code",
   "execution_count": 91,
   "metadata": {},
   "outputs": [
    {
     "name": "stdout",
     "output_type": "stream",
     "text": [
      "Original Matrix:\n",
      " [[2 3 0 0 2 3 0 3 4 3]\n",
      " [4 2 0 1 1 3 2 2 4 3]\n",
      " [4 1 3 1 0 1 4 1 2 0]\n",
      " [2 3 1 3 1 1 4 3 2 2]\n",
      " [0 1 4 3 1 3 2 3 3 4]\n",
      " [1 4 0 1 0 3 3 2 1 2]\n",
      " [3 3 4 2 0 3 1 0 2 4]\n",
      " [2 4 2 2 3 0 1 3 1 2]\n",
      " [4 3 1 2 1 0 4 1 0 2]\n",
      " [2 0 3 4 0 4 0 4 4 0]]\n",
      "Transpose:\n",
      " [[[2 4 4 2 0 1 3 2 4 2]\n",
      "  [3 2 1 3 1 4 3 4 3 0]\n",
      "  [0 0 3 1 4 0 4 2 1 3]\n",
      "  [0 1 1 3 3 1 2 2 2 4]\n",
      "  [2 1 0 1 1 0 0 3 1 0]\n",
      "  [3 3 1 1 3 3 3 0 0 4]\n",
      "  [0 2 4 4 2 3 1 1 4 0]\n",
      "  [3 2 1 3 3 2 0 3 1 4]\n",
      "  [4 4 2 2 3 1 2 1 0 4]\n",
      "  [3 3 0 2 4 2 4 2 2 0]]]\n"
     ]
    }
   ],
   "source": [
    "matrix = np.random.randint(0,5, size=(10,10))\n",
    "print(\"Original Matrix:\\n\", matrix)\n",
    "R = np.lib.stride_tricks.sliding_window_view(matrix, len(matrix), 0)\n",
    "print(\"Transpose:\\n\", R)"
   ]
  },
  {
   "cell_type": "code",
   "execution_count": 92,
   "metadata": {},
   "outputs": [
    {
     "name": "stdout",
     "output_type": "stream",
     "text": [
      "Original Matrix:\n",
      " [[0 4 4 2 3 4 3 4 0 2]\n",
      " [4 1 1 4 3 0 0 4 2 3]\n",
      " [2 3 3 1 2 3 4 1 4 0]\n",
      " [1 4 0 3 4 0 2 0 4 1]\n",
      " [2 1 4 4 3 2 3 2 4 1]\n",
      " [2 4 0 1 1 2 4 1 2 4]\n",
      " [3 0 4 1 1 3 1 3 1 3]\n",
      " [0 0 1 2 0 4 2 4 4 2]\n",
      " [1 0 3 3 1 2 4 0 3 2]\n",
      " [4 0 4 0 4 3 4 2 0 2]]\n",
      "Transpose:\n",
      " [[0 4 2 1 2 2 3 0 1 4]\n",
      " [4 1 3 4 1 4 0 0 0 0]\n",
      " [4 1 3 0 4 0 4 1 3 4]\n",
      " [2 4 1 3 4 1 1 2 3 0]\n",
      " [3 3 2 4 3 1 1 0 1 4]\n",
      " [4 0 3 0 2 2 3 4 2 3]\n",
      " [3 0 4 2 3 4 1 2 4 4]\n",
      " [4 4 1 0 2 1 3 4 0 2]\n",
      " [0 2 4 4 4 2 1 4 3 0]\n",
      " [2 3 0 1 1 4 3 2 2 2]]\n"
     ]
    }
   ],
   "source": [
    "matrix = np.random.randint(0,5, size=(10,10))\n",
    "print(\"Original Matrix:\\n\", matrix)\n",
    "print(\"Transpose:\\n\", matrix.transpose())"
   ]
  },
  {
   "cell_type": "markdown",
   "metadata": {},
   "source": [
    "#### 86. Consider a set of p matrices which has shape (n,n) and a set of p vectors with shape (n,1). How to compute the sum of of the p matrix products at once? (result has shape (n,1)) (★★★)"
   ]
  },
  {
   "cell_type": "code",
   "execution_count": 93,
   "metadata": {},
   "outputs": [
    {
     "name": "stdout",
     "output_type": "stream",
     "text": [
      "Set of matrices:\n",
      " [[[4 1 2]\n",
      "  [4 2 0]\n",
      "  [3 4 3]]\n",
      "\n",
      " [[3 3 4]\n",
      "  [0 2 3]\n",
      "  [2 2 0]]\n",
      "\n",
      " [[3 1 0]\n",
      "  [3 0 3]\n",
      "  [3 1 3]]]\n",
      "Set of vectors:\n",
      " [[[4]\n",
      "  [0]\n",
      "  [0]]\n",
      "\n",
      " [[0]\n",
      "  [3]\n",
      "  [2]]\n",
      "\n",
      " [[4]\n",
      "  [1]\n",
      "  [3]]]\n",
      "Sum of of the matrix products:\n",
      " [[46]\n",
      " [49]\n",
      " [40]]\n"
     ]
    }
   ],
   "source": [
    "matrix = np.random.randint(0,5, size=(3,3,3))\n",
    "print(\"Set of matrices:\\n\", matrix)\n",
    "vector = np.random.randint(0,5, size=(3,3,1))\n",
    "print(\"Set of vectors:\\n\", vector)\n",
    "print(\"Sum of of the matrix products:\\n\", (np.matmul(matrix, vector).sum(axis=0)))"
   ]
  },
  {
   "cell_type": "markdown",
   "metadata": {},
   "source": [
    "#### 87. Consider a 16x16 array, how to get the block-sum (block size is 4x4)? (★★★)"
   ]
  },
  {
   "cell_type": "code",
   "execution_count": 94,
   "metadata": {},
   "outputs": [
    {
     "name": "stdout",
     "output_type": "stream",
     "text": [
      "[[3 2 4 2 4 3 3 3 2 4 3 4 0 3 4 1]\n",
      " [2 2 1 0 3 3 2 4 3 2 3 1 2 3 1 1]\n",
      " [0 2 3 3 0 3 3 2 4 0 1 1 3 3 4 4]\n",
      " [0 2 3 2 1 2 0 3 3 4 4 0 2 2 2 1]\n",
      " [3 1 0 0 4 0 2 2 1 0 3 0 2 0 1 4]\n",
      " [3 1 4 4 1 3 2 1 2 4 3 3 3 1 2 1]\n",
      " [4 0 3 0 3 4 2 2 2 2 0 2 3 1 4 0]\n",
      " [0 3 0 2 2 0 1 0 2 3 0 1 1 1 3 0]\n",
      " [4 0 3 0 2 4 1 3 3 2 1 4 4 4 3 0]\n",
      " [0 1 2 4 4 2 4 0 2 2 0 4 3 2 3 4]\n",
      " [2 2 1 2 4 3 3 1 4 4 0 3 3 0 4 3]\n",
      " [0 2 4 3 4 0 3 0 2 2 1 1 1 4 4 1]\n",
      " [0 0 1 2 4 0 2 4 0 0 3 1 4 1 2 1]\n",
      " [1 1 0 4 4 4 0 4 4 3 4 0 3 3 4 4]\n",
      " [0 4 2 1 2 1 1 2 0 4 2 0 0 4 4 3]\n",
      " [2 2 2 4 0 1 1 0 2 0 2 4 1 1 4 2]]\n",
      "Enter two values, 1st value representing row block, 2nd value representing column block (both are of step size one):\n"
     ]
    },
    {
     "name": "stdin",
     "output_type": "stream",
     "text": [
      " 5\n",
      " 0\n"
     ]
    },
    {
     "name": "stdout",
     "output_type": "stream",
     "text": [
      "[[3 1 4 4]\n",
      " [4 0 3 0]\n",
      " [0 3 0 2]\n",
      " [4 0 3 0]]\n",
      "31\n"
     ]
    }
   ],
   "source": [
    "# Step size = 1\n",
    "matrix = np.random.randint(0,5, size=(16,16))\n",
    "print(matrix)\n",
    "print(\"Enter two values, 1st value representing row block, 2nd value representing column block (both are of step size one):\")\n",
    "row_block = int(input())\n",
    "column_block = int(input())\n",
    "R = np.lib.stride_tricks.sliding_window_view(matrix, (4,4))\n",
    "print(R[row_block][column_block])\n",
    "print(np.sum(R[row_block][column_block]))"
   ]
  },
  {
   "cell_type": "markdown",
   "metadata": {},
   "source": [
    "#### 88. How to implement the Game of Life using numpy arrays? (★★★)"
   ]
  },
  {
   "cell_type": "code",
   "execution_count": 95,
   "metadata": {},
   "outputs": [
    {
     "name": "stdout",
     "output_type": "stream",
     "text": [
      "Present state:\n",
      " [[0 1 1 1 1 0 1 0 1 0]\n",
      " [1 0 0 0 0 0 0 0 1 0]\n",
      " [1 0 1 1 1 1 1 1 0 0]\n",
      " [0 0 0 0 0 0 1 0 0 1]\n",
      " [1 1 1 1 1 1 0 1 1 0]\n",
      " [1 1 0 0 0 1 1 0 0 1]\n",
      " [1 1 0 0 0 0 0 1 1 1]\n",
      " [1 0 0 0 1 1 0 1 0 1]\n",
      " [0 1 0 1 1 1 1 1 0 0]\n",
      " [1 1 0 0 1 0 1 1 1 1]]\n",
      "Next state:\n",
      " [[0 1 1 1 0 0 0 1 0 0]\n",
      " [1 0 0 0 0 0 0 0 1 0]\n",
      " [0 1 0 1 1 1 1 1 1 0]\n",
      " [1 0 0 0 0 0 0 0 0 0]\n",
      " [1 0 1 1 1 0 0 1 1 1]\n",
      " [0 0 0 1 0 1 0 0 0 1]\n",
      " [0 0 0 0 1 0 0 1 0 1]\n",
      " [1 0 1 1 0 0 0 0 0 1]\n",
      " [0 1 1 1 0 0 0 0 0 1]\n",
      " [1 1 1 1 1 0 0 0 1 0]]\n"
     ]
    }
   ],
   "source": [
    "'''\n",
    "# Ref: https://github.com/rougier/numpy-100/blob/master/100_Numpy_exercises_with_hints_with_solutions.md\n",
    "# Game of life question explanation: https://www.youtube.com/watch?v=ti6Ruupq2mg\n",
    "\n",
    "four rules:\n",
    "1. Any live cell with fewer than two live neighbors dies as if caused by under-population.\n",
    "2. Any live cell with two or three live neighbors lives on to the next generation.\n",
    "3. Any live cell with more than three live neighbors dies, as if by over-population.\n",
    "4. Any dead cell with exactly three live neighbors becomes a live cell, as if by reproduction.\n",
    "'''\n",
    "\n",
    "present_state = np.random.randint(0,2,(10,10))\n",
    "print(\"Present state:\\n\", present_state)\n",
    "next_state = np.zeros(present_state.shape, dtype=np.int8)\n",
    "for i in range(len(present_state)):\n",
    "    for j in range(present_state.shape[-1]):\n",
    "        if i==0 and j==0:\n",
    "            dummy = present_state[i][j+1] + present_state[i+1][j] + present_state[i+1][j+1]\n",
    "        elif i==0 and j!=(present_state.shape[-1]-1):\n",
    "            dummy = present_state[i][j-1] + present_state[i+1][j-1] + present_state[i+1][j] + present_state[i+1][j+1] + present_state[i][j+1]\n",
    "        elif i==0 and j==(present_state.shape[-1]-1):\n",
    "            dummy = present_state[i][j-1] + present_state[i+1][j-1] + present_state[i+1][j]\n",
    "        elif i!=(len(present_state)-1) and j==0:\n",
    "            dummy = present_state[i-1][j] + present_state[i-1][j+1] + present_state[i][j+1] + present_state[i+1][j+1] + present_state[i+1][j]\n",
    "        elif i!=(len(present_state)-1) and j==(present_state.shape[-1]-1):\n",
    "            dummy = present_state[i-1][j-1] + present_state[i-1][j] + present_state[i][j-1] + present_state[i+1][j-1] + present_state[i+1][j]\n",
    "        elif i==(len(present_state)-1) and j==0:\n",
    "            dummy = present_state[i-1][j] + present_state[i-1][j+1] + present_state[i][j+1]\n",
    "        elif i==(len(present_state)-1) and j!=(present_state.shape[-1]-1):\n",
    "            dummy = present_state[i][j-1] + present_state[i-1][j-1] + present_state[i-1][j] + present_state[i-1][j+1] + present_state[i][j+1]\n",
    "        elif i==(len(present_state)-1) and j==(present_state.shape[-1]-1):\n",
    "            dummy = present_state[i][j-1] + present_state[i-1][j-1] + present_state[i-1][j]\n",
    "        else:\n",
    "            dummy = present_state[i-1][j-1] + present_state[i-1][j] + present_state[i-1][j+1] + present_state[i][j+1] + present_state[i+1][j+1] + present_state[i+1][j] + present_state[i+1][j-1] + present_state[i][j-1]\n",
    "        \n",
    "        if present_state[i][j] == 0:\n",
    "            if dummy == 3:\n",
    "                next_state[i][j] = 1\n",
    "        elif present_state[i][j] == 1:\n",
    "            if (dummy < 2) or (dummy > 4):\n",
    "                next_state[i][j] = 0\n",
    "            elif dummy == 2 or dummy == 3:\n",
    "                next_state[i][j] = 1\n",
    "print(\"Next state:\\n\", next_state)"
   ]
  },
  {
   "cell_type": "code",
   "execution_count": 96,
   "metadata": {},
   "outputs": [
    {
     "name": "stdout",
     "output_type": "stream",
     "text": [
      "True\n"
     ]
    }
   ],
   "source": [
    "dummy = 0\n",
    "if (dummy < 2) or (dummy > 4):\n",
    "    print(\"True\")"
   ]
  },
  {
   "cell_type": "code",
   "execution_count": 97,
   "metadata": {},
   "outputs": [
    {
     "name": "stdout",
     "output_type": "stream",
     "text": [
      "[[1 1 0 0 1 0 1 0 0 1]\n",
      " [1 1 0 1 1 1 1 1 1 0]\n",
      " [0 0 1 1 1 1 0 0 0 0]\n",
      " [0 1 1 0 1 1 0 1 0 1]\n",
      " [0 0 1 0 0 0 1 0 1 1]\n",
      " [0 1 0 1 0 0 0 0 0 0]\n",
      " [1 0 0 0 0 1 0 0 0 0]\n",
      " [0 0 0 1 0 1 1 0 1 0]\n",
      " [0 0 1 1 0 1 0 0 0 1]\n",
      " [0 0 1 0 1 1 1 0 0 0]]\n",
      "[[0 0 0 0 0 0 0 0 0 0]\n",
      " [0 0 0 0 0 0 1 1 0 0]\n",
      " [0 0 0 0 0 1 0 0 1 0]\n",
      " [0 0 0 0 0 0 1 1 0 0]\n",
      " [0 0 0 0 0 0 0 0 0 0]\n",
      " [0 0 0 0 0 0 0 0 0 0]\n",
      " [0 0 0 0 0 0 0 0 0 0]\n",
      " [0 0 0 0 0 0 0 0 0 0]\n",
      " [0 0 0 0 0 0 0 0 0 0]\n",
      " [0 0 0 0 0 0 0 0 0 0]]\n"
     ]
    }
   ],
   "source": [
    "np.set_printoptions(threshold=float('inf'))\n",
    "def iterate(Z):\n",
    "    # Count neighbours\n",
    "    N = (Z[0:-2,0:-2] + Z[0:-2,1:-1] + Z[0:-2,2:] +\n",
    "         Z[1:-1,0:-2]                + Z[1:-1,2:] +\n",
    "         Z[2:  ,0:-2] + Z[2:  ,1:-1] + Z[2:  ,2:])\n",
    "\n",
    "    # Apply rules\n",
    "    birth = (N==3) & (Z[1:-1,1:-1]==0)\n",
    "    survive = ((N==2) | (N==3)) & (Z[1:-1,1:-1]==1)\n",
    "    Z[...] = 0\n",
    "    Z[1:-1,1:-1][birth | survive] = 1\n",
    "    return Z\n",
    "\n",
    "Z = np.random.randint(0,2,(10,10))\n",
    "print(Z)\n",
    "for i in range(100): Z = iterate(Z)\n",
    "print(Z)"
   ]
  },
  {
   "cell_type": "markdown",
   "metadata": {},
   "source": [
    "#### 89. How to get the n largest values of an array (★★★)"
   ]
  },
  {
   "cell_type": "code",
   "execution_count": 98,
   "metadata": {},
   "outputs": [
    {
     "name": "stdin",
     "output_type": "stream",
     "text": [
      "Enter the size of the array: 20\n",
      "Enter the lowest value allowed in an array: 0\n",
      "Enter the highest value allowed in an array: 50\n",
      "How many largest values you want: 5\n"
     ]
    },
    {
     "name": "stdout",
     "output_type": "stream",
     "text": [
      "[32 38  4  6 15  5 30 40 12 48 35 20 34 20 46 15  0  3 47 45]\n",
      "[48 47 46 45 40 38 35 34 32 30 20 20 15 15 12  6  5  4  3  0]\n",
      "[48 47 46 45 40]\n"
     ]
    }
   ],
   "source": [
    "size_array = int(input(\"Enter the size of the array:\"))\n",
    "lower_bound = int(input(\"Enter the lowest value allowed in an array:\"))\n",
    "upper_bound = int(input(\"Enter the highest value allowed in an array:\"))\n",
    "n = int(input(\"How many largest values you want:\"))\n",
    "numpy_array = np.random.randint(lower_bound, upper_bound, size=size_array)\n",
    "print(numpy_array)\n",
    "numpy_array[::-1].sort()\n",
    "print(numpy_array)\n",
    "print(numpy_array[0:n])"
   ]
  },
  {
   "cell_type": "markdown",
   "metadata": {},
   "source": [
    "#### 90. Given an arbitrary number of vectors, build the cartesian product (every combinations of every item) (★★★)"
   ]
  },
  {
   "cell_type": "code",
   "execution_count": 99,
   "metadata": {},
   "outputs": [
    {
     "name": "stdout",
     "output_type": "stream",
     "text": [
      "[[2 9 6]\n",
      " [7 0 3]]\n",
      "[[2 7]\n",
      " [9 7]\n",
      " [6 7]\n",
      " [2 0]\n",
      " [9 0]\n",
      " [6 0]\n",
      " [2 3]\n",
      " [9 3]\n",
      " [6 3]]\n"
     ]
    }
   ],
   "source": [
    "numpy_array = np.random.randint(0, 10, size=(2,3))\n",
    "print(numpy_array)\n",
    "result = np.transpose([np.tile(numpy_array[0], len(numpy_array[1])), np.repeat(numpy_array[1], len(numpy_array[0]))]) # np. repeat function repeats the individual elements of an input array. But np. tile will take the entire array\n",
    "print(result)"
   ]
  },
  {
   "cell_type": "markdown",
   "metadata": {},
   "source": [
    "#### 91. How to create a record array from a regular array? (★★★)"
   ]
  },
  {
   "cell_type": "code",
   "execution_count": 100,
   "metadata": {},
   "outputs": [
    {
     "name": "stdout",
     "output_type": "stream",
     "text": [
      "[(b'Hello', 2.5, 3) (b'World', 3.6, 2)]\n"
     ]
    }
   ],
   "source": [
    "Z = np.array([(\"Hello\", 2.5, 3),\n",
    "              (\"World\", 3.6, 2)])\n",
    "R = np.core.records.fromarrays(Z.T,\n",
    "                               names='col1, col2, col3',\n",
    "                               formats = 'S8, f8, i8')\n",
    "print(R)"
   ]
  },
  {
   "cell_type": "code",
   "execution_count": 101,
   "metadata": {},
   "outputs": [
    {
     "name": "stdout",
     "output_type": "stream",
     "text": [
      "[(b'Hello', 2.5, 3) (b'World', 3.6, 2)]\n"
     ]
    }
   ],
   "source": [
    "Z = np.array([(\"Hello\", 2.5, 3),\n",
    "              (\"World\", 3.6, 2)])\n",
    "r = np.core.records.fromarrays(Z.T, dtype=np.dtype([('col1', 'S8'), ('col2', 'f8'), ('col3', 'i8')]))\n",
    "print(r)"
   ]
  },
  {
   "cell_type": "markdown",
   "metadata": {},
   "source": [
    "#### 92. Consider a large vector Z, compute Z to the power of 3 using 3 different methods (★★★)"
   ]
  },
  {
   "cell_type": "code",
   "execution_count": 102,
   "metadata": {},
   "outputs": [
    {
     "name": "stdout",
     "output_type": "stream",
     "text": [
      "[2 0 0 2 7 9 9 0 8 9 9 8 5 9 5 3 6 7 7 7 0 6 1 1 8 5 1 8 7 5]\n",
      "[  8   0   0   8 343 729 729   0 512 729 729 512 125 729 125  27 216 343\n",
      " 343 343   0 216   1   1 512 125   1 512 343 125]\n",
      "[  8   0   0   8 343 729 729   0 512 729 729 512 125 729 125  27 216 343\n",
      " 343 343   0 216   1   1 512 125   1 512 343 125]\n",
      "[  8   0   0   8 343 729 729   0 512 729 729 512 125 729 125  27 216 343\n",
      " 343 343   0 216   1   1 512 125   1 512 343 125]\n"
     ]
    }
   ],
   "source": [
    "numpy_array = np.random.randint(0, 10, size=30)\n",
    "print(numpy_array)\n",
    "print(numpy_array**3)\n",
    "print(np.power(numpy_array,3))\n",
    "print(np.einsum('i,i,i->i',numpy_array,numpy_array,numpy_array))"
   ]
  },
  {
   "cell_type": "markdown",
   "metadata": {},
   "source": [
    "#### 93. Consider two arrays A and B of shape (8,3) and (2,2). How to find rows of A that contain elements of each row of B regardless of the order of the elements in B? (★★★)"
   ]
  },
  {
   "cell_type": "code",
   "execution_count": 103,
   "metadata": {},
   "outputs": [
    {
     "name": "stdout",
     "output_type": "stream",
     "text": [
      "[[0 3 3]\n",
      " [2 0 0]\n",
      " [0 1 2]\n",
      " [3 4 4]\n",
      " [3 3 2]\n",
      " [3 1 0]\n",
      " [2 4 2]\n",
      " [4 0 1]]\n",
      "[[3 2]\n",
      " [0 2]]\n",
      "False\n",
      "False\n",
      "False\n",
      "False\n",
      "False\n",
      "False\n",
      "False\n",
      "False\n"
     ]
    }
   ],
   "source": [
    "matrix_1 = np.random.randint(0,5, size=(8,3))\n",
    "matrix_2 = np.random.randint(0,5, size=(2,2))\n",
    "print(matrix_1)\n",
    "print(matrix_2)\n",
    "for arr in matrix_1:\n",
    "    print(set(matrix_2.flatten()).issubset(set(arr)))"
   ]
  },
  {
   "cell_type": "markdown",
   "metadata": {},
   "source": [
    "#### 94. Considering a 10x3 matrix, extract rows with unequal values (e.g. [2,2,3]) (★★★)"
   ]
  },
  {
   "cell_type": "code",
   "execution_count": 104,
   "metadata": {},
   "outputs": [
    {
     "name": "stdout",
     "output_type": "stream",
     "text": [
      "[[2 1 1]\n",
      " [3 4 1]\n",
      " [3 0 2]\n",
      " [3 4 1]\n",
      " [4 0 1]\n",
      " [0 3 1]\n",
      " [0 2 4]\n",
      " [4 0 0]\n",
      " [4 1 3]\n",
      " [3 4 4]]\n",
      "[[2 1 1]\n",
      " [3 4 1]\n",
      " [3 0 2]\n",
      " [3 4 1]\n",
      " [4 0 1]\n",
      " [0 3 1]\n",
      " [0 2 4]\n",
      " [4 0 0]\n",
      " [4 1 3]\n",
      " [3 4 4]]\n"
     ]
    }
   ],
   "source": [
    "matrix = np.random.randint(0,5, size=(10,3))\n",
    "print(matrix)\n",
    "unequal_values_in_rows = np.array([], dtype = np.int32)\n",
    "for vector in matrix:\n",
    "    if np.all(vector == vector[0]) == False:\n",
    "        unequal_values_in_rows = np.append(unequal_values_in_rows, vector)\n",
    "print(unequal_values_in_rows.reshape(int(len(unequal_values_in_rows)/matrix.shape[1]), matrix.shape[1]))"
   ]
  },
  {
   "cell_type": "markdown",
   "metadata": {},
   "source": [
    "#### 95. Convert a vector of ints into a matrix binary representation (★★★)"
   ]
  },
  {
   "cell_type": "code",
   "execution_count": 105,
   "metadata": {},
   "outputs": [
    {
     "name": "stdout",
     "output_type": "stream",
     "text": [
      "[2 2 0 0 0 5 6 2 3 1]\n",
      "[[0 0 0 0 0 0 1 0]\n",
      " [0 0 0 0 0 0 1 0]\n",
      " [0 0 0 0 0 0 0 0]\n",
      " [0 0 0 0 0 0 0 0]\n",
      " [0 0 0 0 0 0 0 0]\n",
      " [0 0 0 0 0 1 0 1]\n",
      " [0 0 0 0 0 1 1 0]\n",
      " [0 0 0 0 0 0 1 0]\n",
      " [0 0 0 0 0 0 1 1]\n",
      " [0 0 0 0 0 0 0 1]]\n"
     ]
    }
   ],
   "source": [
    "numpy_array = np.random.randint(0, 7, size=10, dtype=np.uint8)\n",
    "print(numpy_array)\n",
    "b = np.unpackbits(numpy_array.reshape(-1,1), axis=1)\n",
    "print(b)"
   ]
  },
  {
   "cell_type": "markdown",
   "metadata": {},
   "source": [
    "#### 96. Given a two dimensional array, how to extract unique rows? (★★★)"
   ]
  },
  {
   "cell_type": "code",
   "execution_count": 106,
   "metadata": {},
   "outputs": [
    {
     "name": "stdout",
     "output_type": "stream",
     "text": [
      "[[4 1 3]\n",
      " [3 3 0]\n",
      " [1 0 4]\n",
      " [2 1 0]\n",
      " [1 4 4]\n",
      " [1 3 2]\n",
      " [4 4 1]\n",
      " [1 1 2]\n",
      " [2 0 4]\n",
      " [3 2 2]]\n",
      "[[1 0 4]\n",
      " [1 1 2]\n",
      " [1 3 2]\n",
      " [1 4 4]\n",
      " [2 0 4]\n",
      " [2 1 0]\n",
      " [3 2 2]\n",
      " [3 3 0]\n",
      " [4 1 3]\n",
      " [4 4 1]]\n"
     ]
    }
   ],
   "source": [
    "matrix = np.random.randint(0,5, size=(10,3))\n",
    "print(matrix)\n",
    "print(np.unique(matrix, axis=0))"
   ]
  },
  {
   "cell_type": "markdown",
   "metadata": {},
   "source": [
    "#### 97. Considering 2 vectors A & B, write the einsum equivalent of inner, outer, sum, and mul function (★★★)"
   ]
  },
  {
   "cell_type": "code",
   "execution_count": 107,
   "metadata": {},
   "outputs": [
    {
     "name": "stdout",
     "output_type": "stream",
     "text": [
      "[23  9 37 49 45  7 21 19 42  5] [18 12 25 28 21  0 26 37 31 19]\n"
     ]
    }
   ],
   "source": [
    "A = np.random.randint(0, 50, size=10)\n",
    "B = np.random.randint(0, 50, size=10)\n",
    "print(A, B)"
   ]
  },
  {
   "cell_type": "code",
   "execution_count": 108,
   "metadata": {},
   "outputs": [
    {
     "name": "stdout",
     "output_type": "stream",
     "text": [
      "inner ((A).(B.T)) 6410\n",
      "outer ((A.T).(B)) [[ 414  276  575  644  483    0  598  851  713  437]\n",
      " [ 162  108  225  252  189    0  234  333  279  171]\n",
      " [ 666  444  925 1036  777    0  962 1369 1147  703]\n",
      " [ 882  588 1225 1372 1029    0 1274 1813 1519  931]\n",
      " [ 810  540 1125 1260  945    0 1170 1665 1395  855]\n",
      " [ 126   84  175  196  147    0  182  259  217  133]\n",
      " [ 378  252  525  588  441    0  546  777  651  399]\n",
      " [ 342  228  475  532  399    0  494  703  589  361]\n",
      " [ 756  504 1050 1176  882    0 1092 1554 1302  798]\n",
      " [  90   60  125  140  105    0  130  185  155   95]]\n",
      "sum: 257\n",
      "multiplication: [ 414  108  925 1372  945    0  546  703 1302   95]\n"
     ]
    }
   ],
   "source": [
    "print(\"inner ((A).(B.T))\", np.einsum('i,i',A,B))\n",
    "print(\"outer ((A.T).(B))\", np.einsum('i,j',A,B))\n",
    "print(\"sum:\", np.einsum('i->', A))\n",
    "print(\"multiplication:\", np.einsum('i,i->i',A,B))"
   ]
  },
  {
   "cell_type": "markdown",
   "metadata": {},
   "source": [
    "#### 98. Considering a path described by two vectors (X,Y), how to sample it using equidistant samples (★★★)?"
   ]
  },
  {
   "cell_type": "code",
   "execution_count": 109,
   "metadata": {},
   "outputs": [
    {
     "data": {
      "text/plain": [
       "[(1.0, 10.0), (2.0, 9.0), (3.0, 8.0), (4.0, 7.0), (5.0, 6.0), (6.0, 5.0)]"
      ]
     },
     "execution_count": 109,
     "metadata": {},
     "output_type": "execute_result"
    }
   ],
   "source": [
    "def getEquidistantPoints(p1, p2, parts):\n",
    "    return zip(np.linspace(p1[0], p2[0], parts+1), np.linspace(p1[1], p2[1], parts+1))\n",
    "\n",
    "list(getEquidistantPoints((1,10), (6,5), 5))"
   ]
  },
  {
   "cell_type": "markdown",
   "metadata": {},
   "source": [
    "#### 99. Given an integer n and a 2D array X, select from X the rows which can be interpreted as draws from a multinomial distribution with n degrees, i.e., the rows which only contain integers and which sum to n. (★★★)"
   ]
  },
  {
   "cell_type": "code",
   "execution_count": 110,
   "metadata": {},
   "outputs": [
    {
     "name": "stdout",
     "output_type": "stream",
     "text": [
      "X:\n",
      " [[2 1 0 3]\n",
      " [1 2 1 0]\n",
      " [0 0 2 1]\n",
      " [3 0 1 0]\n",
      " [2 1 1 3]] \n",
      " rows with sum =  5 \n",
      " are  []\n"
     ]
    }
   ],
   "source": [
    "# ref: what is multinomial distribution, https://www.statisticshowto.com/multinomial-distribution/\n",
    "n = 5\n",
    "X = np.random.randint(0, 4, size=(5,4)) # 2D array can contain float, but I am taking only integer\n",
    "print(\"X:\\n\", X, \"\\n rows with sum = \", n, \"\\n are \", X[np.sum(X, axis=X.ndim-1) == n])"
   ]
  },
  {
   "cell_type": "markdown",
   "metadata": {},
   "source": [
    "#### 100. Compute bootstrapped 95% confidence intervals for the mean of a 1D array X (i.e., resample the elements of an array with replacement N times, compute the mean of each sample, and then compute percentiles over the means). (★★★)"
   ]
  },
  {
   "cell_type": "code",
   "execution_count": 112,
   "metadata": {},
   "outputs": [
    {
     "name": "stdout",
     "output_type": "stream",
     "text": [
      "Shape of X: (100,)\n",
      "Shape of indices: (1000, 100)\n",
      "95% confidence intervals are; 2.5% boundary: -0.21729811530327664 97.5% boundary: 0.1591576782738012\n"
     ]
    }
   ],
   "source": [
    "X = np.random.randn(100) # random array\n",
    "print(\"Shape of X:\", X.shape)\n",
    "N = 1000 # number of bootstrap samples\n",
    "indices = np.random.randint(0, X.size, (N, X.size)) # creating index array of shape (N, 100) with values ranging from 0 to 99.\n",
    "print(\"Shape of indices:\", indices.shape)\n",
    "mean_samples = X[indices].mean(axis=1) # creating mean_sample array of size N. mean is calculated of elements after replacement of 100 elements given by idx array.\n",
    "confint = np.percentile(mean_samples, [2.5, 97.5])\n",
    "print(\"95% confidence intervals are; 2.5% boundary:\", confint[0], \"97.5% boundary:\", confint[1])"
   ]
  },
  {
   "cell_type": "markdown",
   "metadata": {},
   "source": [
    "Congratulations on completing the 100 exercises, well done!\n",
    "\n",
    "#### What to do next?\n",
    "\n",
    "- Share your completed notebook on Facebook, LinkedIn or Twitter and challenge your friends.\n",
    "- Share your solutions and help others on the forum: https://jovian.ml/forum/t/100-numpy-exercises-hints-discussions-help/10561\n",
    "- Check out our course on \"Data Analysis with Python: Zero to Pandas\" - https://jovian.ml/learn/data-analysis-with-python-zero-to-pandas\n",
    "- Star this repository to show your appreciation for the original author of this notebook: https://github.com/rougier/numpy-100"
   ]
  }
 ],
 "metadata": {
  "kernelspec": {
   "display_name": "Python 3 (ipykernel)",
   "language": "python",
   "name": "python3"
  },
  "language_info": {
   "codemirror_mode": {
    "name": "ipython",
    "version": 3
   },
   "file_extension": ".py",
   "mimetype": "text/x-python",
   "name": "python",
   "nbconvert_exporter": "python",
   "pygments_lexer": "ipython3",
   "version": "3.9.7"
  }
 },
 "nbformat": 4,
 "nbformat_minor": 4
}
